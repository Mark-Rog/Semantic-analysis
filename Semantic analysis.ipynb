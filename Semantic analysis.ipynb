{
 "cells": [
  {
   "cell_type": "markdown",
   "metadata": {},
   "source": [
    "# Проект для «Викишоп»"
   ]
  },
  {
   "cell_type": "markdown",
   "metadata": {},
   "source": [
    "## Подготовка"
   ]
  },
  {
   "cell_type": "code",
   "execution_count": 1,
   "metadata": {},
   "outputs": [],
   "source": [
    "import pandas as pd\n",
    "import numpy as np\n",
    "import re\n",
    "from sklearn.model_selection import train_test_split\n",
    "from catboost import CatBoostClassifier\n",
    "from sklearn.linear_model import LogisticRegression\n",
    "from sklearn.tree import DecisionTreeClassifier\n",
    "from sklearn.ensemble import RandomForestClassifier\n",
    "from sklearn.feature_extraction import text\n",
    "from sklearn.feature_extraction.text import TfidfVectorizer \n",
    "from sklearn.metrics import f1_score"
   ]
  },
  {
   "cell_type": "code",
   "execution_count": 2,
   "metadata": {},
   "outputs": [],
   "source": [
    "data = pd.read_csv('/datasets/toxic_comments.csv')"
   ]
  },
  {
   "cell_type": "code",
   "execution_count": 3,
   "metadata": {},
   "outputs": [
    {
     "data": {
      "text/html": [
       "<div>\n",
       "<style scoped>\n",
       "    .dataframe tbody tr th:only-of-type {\n",
       "        vertical-align: middle;\n",
       "    }\n",
       "\n",
       "    .dataframe tbody tr th {\n",
       "        vertical-align: top;\n",
       "    }\n",
       "\n",
       "    .dataframe thead th {\n",
       "        text-align: right;\n",
       "    }\n",
       "</style>\n",
       "<table border=\"1\" class=\"dataframe\">\n",
       "  <thead>\n",
       "    <tr style=\"text-align: right;\">\n",
       "      <th></th>\n",
       "      <th>text</th>\n",
       "      <th>toxic</th>\n",
       "    </tr>\n",
       "  </thead>\n",
       "  <tbody>\n",
       "    <tr>\n",
       "      <td>0</td>\n",
       "      <td>Explanation\\nWhy the edits made under my usern...</td>\n",
       "      <td>0</td>\n",
       "    </tr>\n",
       "    <tr>\n",
       "      <td>1</td>\n",
       "      <td>D'aww! He matches this background colour I'm s...</td>\n",
       "      <td>0</td>\n",
       "    </tr>\n",
       "    <tr>\n",
       "      <td>2</td>\n",
       "      <td>Hey man, I'm really not trying to edit war. It...</td>\n",
       "      <td>0</td>\n",
       "    </tr>\n",
       "    <tr>\n",
       "      <td>3</td>\n",
       "      <td>\"\\nMore\\nI can't make any real suggestions on ...</td>\n",
       "      <td>0</td>\n",
       "    </tr>\n",
       "    <tr>\n",
       "      <td>4</td>\n",
       "      <td>You, sir, are my hero. Any chance you remember...</td>\n",
       "      <td>0</td>\n",
       "    </tr>\n",
       "  </tbody>\n",
       "</table>\n",
       "</div>"
      ],
      "text/plain": [
       "                                                text  toxic\n",
       "0  Explanation\\nWhy the edits made under my usern...      0\n",
       "1  D'aww! He matches this background colour I'm s...      0\n",
       "2  Hey man, I'm really not trying to edit war. It...      0\n",
       "3  \"\\nMore\\nI can't make any real suggestions on ...      0\n",
       "4  You, sir, are my hero. Any chance you remember...      0"
      ]
     },
     "execution_count": 3,
     "metadata": {},
     "output_type": "execute_result"
    }
   ],
   "source": [
    "data.head(5)"
   ]
  },
  {
   "cell_type": "code",
   "execution_count": 4,
   "metadata": {},
   "outputs": [
    {
     "name": "stdout",
     "output_type": "stream",
     "text": [
      "<class 'pandas.core.frame.DataFrame'>\n",
      "RangeIndex: 159571 entries, 0 to 159570\n",
      "Data columns (total 2 columns):\n",
      "text     159571 non-null object\n",
      "toxic    159571 non-null int64\n",
      "dtypes: int64(1), object(1)\n",
      "memory usage: 2.4+ MB\n"
     ]
    }
   ],
   "source": [
    "data.info()"
   ]
  },
  {
   "cell_type": "code",
   "execution_count": 5,
   "metadata": {},
   "outputs": [
    {
     "data": {
      "text/plain": [
       "0"
      ]
     },
     "execution_count": 5,
     "metadata": {},
     "output_type": "execute_result"
    }
   ],
   "source": [
    "data.duplicated().sum()"
   ]
  },
  {
   "cell_type": "code",
   "execution_count": 6,
   "metadata": {},
   "outputs": [
    {
     "data": {
      "text/plain": [
       "text     0\n",
       "toxic    0\n",
       "dtype: int64"
      ]
     },
     "execution_count": 6,
     "metadata": {},
     "output_type": "execute_result"
    }
   ],
   "source": [
    "data.isna().sum()"
   ]
  },
  {
   "cell_type": "markdown",
   "metadata": {},
   "source": [
    "### Очищаем текст"
   ]
  },
  {
   "cell_type": "code",
   "execution_count": 7,
   "metadata": {},
   "outputs": [],
   "source": [
    "def clear_text(text):\n",
    "    lol = re.sub(r'[^a-zA-Z ]', ' ', text) \n",
    "    lol2 = \" \".join(lol.split())\n",
    "    return lol2"
   ]
  },
  {
   "cell_type": "code",
   "execution_count": 8,
   "metadata": {},
   "outputs": [],
   "source": [
    "data['lemm_text'] = data['text'].apply(clear_text)"
   ]
  },
  {
   "cell_type": "markdown",
   "metadata": {},
   "source": [
    "### Лемматизация"
   ]
  },
  {
   "cell_type": "code",
   "execution_count": 9,
   "metadata": {},
   "outputs": [],
   "source": [
    "import nltk\n",
    "\n",
    "w_tokenizer = nltk.tokenize.WhitespaceTokenizer()\n",
    "lemmatizer = nltk.stem.WordNetLemmatizer()\n"
   ]
  },
  {
   "cell_type": "code",
   "execution_count": 10,
   "metadata": {},
   "outputs": [],
   "source": [
    "def lemmatize_text(text):\n",
    "    return [lemmatizer.lemmatize(w, pos='v') for w in w_tokenizer.tokenize(text)]"
   ]
  },
  {
   "cell_type": "code",
   "execution_count": 11,
   "metadata": {},
   "outputs": [],
   "source": [
    "data['lemm_text'] = data['lemm_text'].apply(lemmatize_text)"
   ]
  },
  {
   "cell_type": "code",
   "execution_count": 12,
   "metadata": {},
   "outputs": [],
   "source": [
    "def join(text):\n",
    "    lemm_text = \" \".join(text) \n",
    "    return lemm_text"
   ]
  },
  {
   "cell_type": "code",
   "execution_count": 13,
   "metadata": {},
   "outputs": [],
   "source": [
    "data['lemm_text'] = data['lemm_text'].apply(join)"
   ]
  },
  {
   "cell_type": "markdown",
   "metadata": {},
   "source": [
    "### Подготовим выборки"
   ]
  },
  {
   "cell_type": "code",
   "execution_count": 14,
   "metadata": {},
   "outputs": [
    {
     "data": {
      "text/plain": [
       "0    143346\n",
       "1     16225\n",
       "Name: toxic, dtype: int64"
      ]
     },
     "execution_count": 14,
     "metadata": {},
     "output_type": "execute_result"
    }
   ],
   "source": [
    "data['toxic'].value_counts()"
   ]
  },
  {
   "cell_type": "code",
   "execution_count": 15,
   "metadata": {},
   "outputs": [],
   "source": [
    "df_train, df_test = train_test_split(data, test_size=0.25, random_state=12345) "
   ]
  },
  {
   "cell_type": "code",
   "execution_count": 16,
   "metadata": {},
   "outputs": [
    {
     "name": "stdout",
     "output_type": "stream",
     "text": [
      "<class 'pandas.core.frame.DataFrame'>\n",
      "Int64Index: 119678 entries, 111565 to 77285\n",
      "Data columns (total 3 columns):\n",
      "text         119678 non-null object\n",
      "toxic        119678 non-null int64\n",
      "lemm_text    119678 non-null object\n",
      "dtypes: int64(1), object(2)\n",
      "memory usage: 3.7+ MB\n"
     ]
    }
   ],
   "source": [
    "df_train.info()"
   ]
  },
  {
   "cell_type": "code",
   "execution_count": 17,
   "metadata": {},
   "outputs": [
    {
     "name": "stdout",
     "output_type": "stream",
     "text": [
      "<class 'pandas.core.frame.DataFrame'>\n",
      "Int64Index: 39893 entries, 146790 to 36200\n",
      "Data columns (total 3 columns):\n",
      "text         39893 non-null object\n",
      "toxic        39893 non-null int64\n",
      "lemm_text    39893 non-null object\n",
      "dtypes: int64(1), object(2)\n",
      "memory usage: 1.2+ MB\n"
     ]
    }
   ],
   "source": [
    "df_test.info()"
   ]
  },
  {
   "cell_type": "code",
   "execution_count": 18,
   "metadata": {},
   "outputs": [],
   "source": [
    "Х_train = df_train['lemm_text']\n",
    "y_train = df_train['toxic']\n",
    "X_test = df_test['lemm_text']"
   ]
  },
  {
   "cell_type": "markdown",
   "metadata": {},
   "source": [
    "### Lemm to TF-IDF"
   ]
  },
  {
   "cell_type": "code",
   "execution_count": 19,
   "metadata": {},
   "outputs": [],
   "source": [
    "stopwords = text.ENGLISH_STOP_WORDS"
   ]
  },
  {
   "cell_type": "code",
   "execution_count": 20,
   "metadata": {},
   "outputs": [],
   "source": [
    "count_tf_idf = TfidfVectorizer(stop_words=stopwords)"
   ]
  },
  {
   "cell_type": "code",
   "execution_count": 21,
   "metadata": {},
   "outputs": [],
   "source": [
    "tf_idf_model = count_tf_idf.fit(Х_train)\n",
    "train_tf_idf = count_tf_idf.transform(Х_train)\n",
    "test_tf_idf = count_tf_idf.transform(X_test)"
   ]
  },
  {
   "cell_type": "markdown",
   "metadata": {},
   "source": [
    "## Обучение"
   ]
  },
  {
   "cell_type": "markdown",
   "metadata": {},
   "source": [
    "### CatBoostRegressor"
   ]
  },
  {
   "cell_type": "code",
   "execution_count": 22,
   "metadata": {},
   "outputs": [],
   "source": [
    "model_c = CatBoostClassifier(iterations=15,\n",
    "                           learning_rate=1,\n",
    "                           depth=5)"
   ]
  },
  {
   "cell_type": "code",
   "execution_count": 23,
   "metadata": {},
   "outputs": [
    {
     "name": "stdout",
     "output_type": "stream",
     "text": [
      "0:\tlearn: 0.2604647\ttotal: 3.48s\tremaining: 48.7s\n",
      "1:\tlearn: 0.2343785\ttotal: 6.39s\tremaining: 41.5s\n",
      "2:\tlearn: 0.2161862\ttotal: 9.48s\tremaining: 37.9s\n",
      "3:\tlearn: 0.2068241\ttotal: 12.4s\tremaining: 34.1s\n",
      "4:\tlearn: 0.1988127\ttotal: 15.4s\tremaining: 30.8s\n",
      "5:\tlearn: 0.1917381\ttotal: 18.3s\tremaining: 27.4s\n",
      "6:\tlearn: 0.1868503\ttotal: 21.2s\tremaining: 24.2s\n",
      "7:\tlearn: 0.1827173\ttotal: 24.1s\tremaining: 21.1s\n",
      "8:\tlearn: 0.1800848\ttotal: 27s\tremaining: 18s\n",
      "9:\tlearn: 0.1748550\ttotal: 30s\tremaining: 15s\n",
      "10:\tlearn: 0.1721967\ttotal: 32.9s\tremaining: 12s\n",
      "11:\tlearn: 0.1694731\ttotal: 35.8s\tremaining: 8.94s\n",
      "12:\tlearn: 0.1672723\ttotal: 38.7s\tremaining: 5.95s\n",
      "13:\tlearn: 0.1654878\ttotal: 41.6s\tremaining: 2.97s\n",
      "14:\tlearn: 0.1630793\ttotal: 44.7s\tremaining: 0us\n"
     ]
    },
    {
     "data": {
      "text/plain": [
       "<catboost.core.CatBoostClassifier at 0x7f8c72b62350>"
      ]
     },
     "execution_count": 23,
     "metadata": {},
     "output_type": "execute_result"
    }
   ],
   "source": [
    "model_c.fit(train_tf_idf, y_train)"
   ]
  },
  {
   "cell_type": "code",
   "execution_count": 24,
   "metadata": {},
   "outputs": [],
   "source": [
    "pred_c = model_c.predict(test_tf_idf)"
   ]
  },
  {
   "cell_type": "markdown",
   "metadata": {},
   "source": [
    "### LogisticRegression"
   ]
  },
  {
   "cell_type": "code",
   "execution_count": 25,
   "metadata": {},
   "outputs": [
    {
     "name": "stderr",
     "output_type": "stream",
     "text": [
      "/opt/conda/lib/python3.7/site-packages/sklearn/linear_model/logistic.py:432: FutureWarning: Default solver will be changed to 'lbfgs' in 0.22. Specify a solver to silence this warning.\n",
      "  FutureWarning)\n"
     ]
    },
    {
     "data": {
      "text/plain": [
       "LogisticRegression(C=2.0, class_weight=None, dual=False, fit_intercept=True,\n",
       "                   intercept_scaling=1, l1_ratio=None, max_iter=100,\n",
       "                   multi_class='warn', n_jobs=None, penalty='l2',\n",
       "                   random_state=None, solver='warn', tol=0.0001, verbose=0,\n",
       "                   warm_start=False)"
      ]
     },
     "execution_count": 25,
     "metadata": {},
     "output_type": "execute_result"
    }
   ],
   "source": [
    "model_l = LogisticRegression(C=2.0)\n",
    "model_l.fit(train_tf_idf, y_train)"
   ]
  },
  {
   "cell_type": "code",
   "execution_count": 26,
   "metadata": {},
   "outputs": [],
   "source": [
    "pred_l = model_l.predict(test_tf_idf)"
   ]
  },
  {
   "cell_type": "markdown",
   "metadata": {},
   "source": [
    "### DecisionTreeRegressor"
   ]
  },
  {
   "cell_type": "code",
   "execution_count": 27,
   "metadata": {},
   "outputs": [
    {
     "name": "stdout",
     "output_type": "stream",
     "text": [
      "f1 наилучшей модели на тренировочной выборке: 1000\n"
     ]
    }
   ],
   "source": [
    "best_model = None\n",
    "best_result = 1000\n",
    "y_test = df_test['toxic']\n",
    "for est in range(1, 20):\n",
    "    model_t = RandomForestClassifier(random_state=12345, n_estimators=est) \n",
    "    model_t.fit(train_tf_idf, y_train) \n",
    "    pred_t = model_t.predict(test_tf_idf)\n",
    "    result = f1_score(y_test, pred_l) \n",
    "    if result > best_result:\n",
    "        best_model = model_t\n",
    "        best_result = result\n",
    "\n",
    "print(\"f1 наилучшей модели на тренировочной выборке:\", best_result)"
   ]
  },
  {
   "cell_type": "code",
   "execution_count": 28,
   "metadata": {},
   "outputs": [
    {
     "data": {
      "text/plain": [
       "DecisionTreeClassifier(class_weight=None, criterion='gini', max_depth=100,\n",
       "                       max_features=None, max_leaf_nodes=None,\n",
       "                       min_impurity_decrease=0.0, min_impurity_split=None,\n",
       "                       min_samples_leaf=1, min_samples_split=2,\n",
       "                       min_weight_fraction_leaf=0.0, presort=False,\n",
       "                       random_state=12345, splitter='best')"
      ]
     },
     "execution_count": 28,
     "metadata": {},
     "output_type": "execute_result"
    }
   ],
   "source": [
    "model_t = DecisionTreeClassifier(random_state=12345, max_depth=100)\n",
    "model_t.fit(train_tf_idf, y_train)"
   ]
  },
  {
   "cell_type": "code",
   "execution_count": 29,
   "metadata": {},
   "outputs": [],
   "source": [
    "pred_t = model_t.predict(test_tf_idf)"
   ]
  },
  {
   "cell_type": "markdown",
   "metadata": {},
   "source": [
    "### RandomForestRegressor"
   ]
  },
  {
   "cell_type": "code",
   "execution_count": 30,
   "metadata": {},
   "outputs": [
    {
     "data": {
      "text/plain": [
       "RandomForestClassifier(bootstrap=True, class_weight=None, criterion='gini',\n",
       "                       max_depth=100, max_features='auto', max_leaf_nodes=None,\n",
       "                       min_impurity_decrease=0.0, min_impurity_split=None,\n",
       "                       min_samples_leaf=1, min_samples_split=2,\n",
       "                       min_weight_fraction_leaf=0.0, n_estimators=25,\n",
       "                       n_jobs=None, oob_score=False, random_state=12345,\n",
       "                       verbose=0, warm_start=False)"
      ]
     },
     "execution_count": 30,
     "metadata": {},
     "output_type": "execute_result"
    }
   ],
   "source": [
    "model_f = RandomForestClassifier(random_state=12345, max_depth=100, n_estimators = 25)\n",
    "model_f.fit(train_tf_idf, y_train)"
   ]
  },
  {
   "cell_type": "code",
   "execution_count": 31,
   "metadata": {},
   "outputs": [],
   "source": [
    "pred_f = model_f.predict(test_tf_idf)"
   ]
  },
  {
   "cell_type": "markdown",
   "metadata": {},
   "source": [
    "## Выводы"
   ]
  },
  {
   "cell_type": "code",
   "execution_count": 32,
   "metadata": {},
   "outputs": [],
   "source": [
    "y_test = df_test['toxic']"
   ]
  },
  {
   "cell_type": "code",
   "execution_count": 33,
   "metadata": {},
   "outputs": [],
   "source": [
    "f1_l = f1_score(y_test, pred_l)\n",
    "f1_t = f1_score(y_test, pred_t)\n",
    "f1_f = f1_score(y_test, pred_f)\n",
    "f1_c = f1_score(y_test, pred_c)"
   ]
  },
  {
   "cell_type": "code",
   "execution_count": 34,
   "metadata": {
    "scrolled": true
   },
   "outputs": [
    {
     "name": "stdout",
     "output_type": "stream",
     "text": [
      "F1 на Логической классификации: 0.7619997151402935\n",
      "F1 на Древе решений: 0.7191586894971013\n",
      "F1 на Случайном лесе: 0.25649765658287177\n",
      "F1 на Катебусте: 0.7044006948465547\n"
     ]
    }
   ],
   "source": [
    "print(\"F1 на Логической классификации:\", f1_l)\n",
    "print(\"F1 на Древе решений:\", f1_t)\n",
    "print(\"F1 на Случайном лесе:\", f1_f)\n",
    "print(\"F1 на Катебусте:\", f1_c)"
   ]
  },
  {
   "cell_type": "markdown",
   "metadata": {},
   "source": [
    "### Вывод"
   ]
  },
  {
   "cell_type": "markdown",
   "metadata": {},
   "source": [
    "Проект сделан! Модель успешно преобразовывает коментарии и определяет их токсичность. Для наиболее достоверного определения таксичности коментариев необходимо использовать модель Логической классификации."
   ]
  }
 ],
 "metadata": {
  "ExecuteTimeLog": [
   {
    "duration": 599,
    "start_time": "2021-10-14T10:23:23.852Z"
   },
   {
    "duration": 658,
    "start_time": "2021-10-14T10:23:52.921Z"
   },
   {
    "duration": 13,
    "start_time": "2021-10-14T10:24:04.176Z"
   },
   {
    "duration": 8,
    "start_time": "2021-10-14T10:24:27.665Z"
   },
   {
    "duration": 32,
    "start_time": "2021-10-14T10:25:12.186Z"
   },
   {
    "duration": 252,
    "start_time": "2021-10-14T10:25:26.568Z"
   },
   {
    "duration": 29,
    "start_time": "2021-10-14T10:25:34.913Z"
   },
   {
    "duration": 3,
    "start_time": "2021-10-14T10:33:24.540Z"
   },
   {
    "duration": 317,
    "start_time": "2021-10-14T10:34:42.682Z"
   },
   {
    "duration": 232,
    "start_time": "2021-10-14T10:44:09.012Z"
   },
   {
    "duration": 1339,
    "start_time": "2021-10-14T10:45:56.844Z"
   },
   {
    "duration": 6,
    "start_time": "2021-10-14T10:46:37.516Z"
   },
   {
    "duration": 3,
    "start_time": "2021-10-14T10:46:40.461Z"
   },
   {
    "duration": 604,
    "start_time": "2021-10-14T10:47:08.949Z"
   },
   {
    "duration": 654,
    "start_time": "2021-10-14T10:47:11.306Z"
   },
   {
    "duration": 16,
    "start_time": "2021-10-14T10:47:11.962Z"
   },
   {
    "duration": 34,
    "start_time": "2021-10-14T10:47:11.981Z"
   },
   {
    "duration": 230,
    "start_time": "2021-10-14T10:47:14.029Z"
   },
   {
    "duration": 27,
    "start_time": "2021-10-14T10:47:14.519Z"
   },
   {
    "duration": 3,
    "start_time": "2021-10-14T10:47:15.479Z"
   },
   {
    "duration": 621,
    "start_time": "2021-10-14T11:20:33.131Z"
   },
   {
    "duration": 668,
    "start_time": "2021-10-14T11:20:34.593Z"
   },
   {
    "duration": 15,
    "start_time": "2021-10-14T11:20:35.263Z"
   },
   {
    "duration": 30,
    "start_time": "2021-10-14T11:20:35.530Z"
   },
   {
    "duration": 230,
    "start_time": "2021-10-14T11:20:37.618Z"
   },
   {
    "duration": 28,
    "start_time": "2021-10-14T11:20:38.105Z"
   },
   {
    "duration": 3,
    "start_time": "2021-10-14T11:20:39.965Z"
   },
   {
    "duration": 3,
    "start_time": "2021-10-14T11:20:42.014Z"
   },
   {
    "duration": 95854,
    "start_time": "2021-10-14T11:20:45.532Z"
   },
   {
    "duration": 10,
    "start_time": "2021-10-14T11:22:42.248Z"
   },
   {
    "duration": 9,
    "start_time": "2021-10-14T11:24:03.658Z"
   },
   {
    "duration": 3,
    "start_time": "2021-10-14T11:29:13.538Z"
   },
   {
    "duration": 3888,
    "start_time": "2021-10-14T11:29:15.883Z"
   },
   {
    "duration": 8,
    "start_time": "2021-10-14T11:29:21.212Z"
   },
   {
    "duration": 567,
    "start_time": "2021-10-14T11:30:16.504Z"
   },
   {
    "duration": 665,
    "start_time": "2021-10-14T11:30:17.710Z"
   },
   {
    "duration": 14,
    "start_time": "2021-10-14T11:30:18.377Z"
   },
   {
    "duration": 29,
    "start_time": "2021-10-14T11:30:18.535Z"
   },
   {
    "duration": 239,
    "start_time": "2021-10-14T11:30:18.750Z"
   },
   {
    "duration": 30,
    "start_time": "2021-10-14T11:30:19.262Z"
   },
   {
    "duration": 3,
    "start_time": "2021-10-14T11:30:22.520Z"
   },
   {
    "duration": 4,
    "start_time": "2021-10-14T11:30:43.877Z"
   },
   {
    "duration": 3888,
    "start_time": "2021-10-14T11:30:56.662Z"
   },
   {
    "duration": 9,
    "start_time": "2021-10-14T11:31:02.367Z"
   },
   {
    "duration": 3,
    "start_time": "2021-10-14T11:31:17.353Z"
   },
   {
    "duration": 3,
    "start_time": "2021-10-14T11:31:18.090Z"
   },
   {
    "duration": 72731,
    "start_time": "2021-10-14T11:31:18.936Z"
   },
   {
    "duration": 9,
    "start_time": "2021-10-14T11:32:48.263Z"
   },
   {
    "duration": 660,
    "start_time": "2021-10-14T11:35:56.919Z"
   },
   {
    "duration": 687,
    "start_time": "2021-10-14T11:35:58.381Z"
   },
   {
    "duration": 14,
    "start_time": "2021-10-14T11:35:59.070Z"
   },
   {
    "duration": 32,
    "start_time": "2021-10-14T11:36:01.235Z"
   },
   {
    "duration": 245,
    "start_time": "2021-10-14T11:36:02.023Z"
   },
   {
    "duration": 31,
    "start_time": "2021-10-14T11:36:03.657Z"
   },
   {
    "duration": 2245,
    "start_time": "2021-10-14T11:36:04.761Z"
   },
   {
    "duration": 600,
    "start_time": "2021-10-14T11:36:32.457Z"
   },
   {
    "duration": 691,
    "start_time": "2021-10-14T11:36:33.592Z"
   },
   {
    "duration": 15,
    "start_time": "2021-10-14T11:36:34.284Z"
   },
   {
    "duration": 51,
    "start_time": "2021-10-14T11:36:34.302Z"
   },
   {
    "duration": 239,
    "start_time": "2021-10-14T11:36:36.863Z"
   },
   {
    "duration": 30,
    "start_time": "2021-10-14T11:36:37.709Z"
   },
   {
    "duration": 600,
    "start_time": "2021-10-14T11:37:15.665Z"
   },
   {
    "duration": 653,
    "start_time": "2021-10-14T11:37:16.267Z"
   },
   {
    "duration": 14,
    "start_time": "2021-10-14T11:37:16.922Z"
   },
   {
    "duration": 28,
    "start_time": "2021-10-14T11:37:17.133Z"
   },
   {
    "duration": 232,
    "start_time": "2021-10-14T11:37:18.609Z"
   },
   {
    "duration": 27,
    "start_time": "2021-10-14T11:37:18.843Z"
   },
   {
    "duration": 2097,
    "start_time": "2021-10-14T11:37:19.081Z"
   },
   {
    "duration": 3,
    "start_time": "2021-10-14T11:37:23.323Z"
   },
   {
    "duration": 3,
    "start_time": "2021-10-14T11:37:23.668Z"
   },
   {
    "duration": 306,
    "start_time": "2021-10-14T11:37:46.778Z"
   },
   {
    "duration": 4,
    "start_time": "2021-10-14T11:38:58.235Z"
   },
   {
    "duration": 149,
    "start_time": "2021-10-14T11:41:01.598Z"
   },
   {
    "duration": 1647,
    "start_time": "2021-10-14T11:41:04.189Z"
   },
   {
    "duration": 617,
    "start_time": "2021-10-14T11:41:20.610Z"
   },
   {
    "duration": 666,
    "start_time": "2021-10-14T11:41:21.229Z"
   },
   {
    "duration": 15,
    "start_time": "2021-10-14T11:41:21.897Z"
   },
   {
    "duration": 30,
    "start_time": "2021-10-14T11:41:23.977Z"
   },
   {
    "duration": 231,
    "start_time": "2021-10-14T11:41:24.386Z"
   },
   {
    "duration": 28,
    "start_time": "2021-10-14T11:41:26.267Z"
   },
   {
    "duration": 36,
    "start_time": "2021-10-14T11:41:26.924Z"
   },
   {
    "duration": 3,
    "start_time": "2021-10-14T11:41:28.032Z"
   },
   {
    "duration": 4,
    "start_time": "2021-10-14T11:41:28.452Z"
   },
   {
    "duration": 1710,
    "start_time": "2021-10-14T11:41:29.090Z"
   },
   {
    "duration": 739,
    "start_time": "2021-10-14T11:43:11.749Z"
   },
   {
    "duration": 715,
    "start_time": "2021-10-14T11:43:13.101Z"
   },
   {
    "duration": 16,
    "start_time": "2021-10-14T11:43:13.818Z"
   },
   {
    "duration": 36,
    "start_time": "2021-10-14T11:43:15.835Z"
   },
   {
    "duration": 262,
    "start_time": "2021-10-14T11:43:16.472Z"
   },
   {
    "duration": 28,
    "start_time": "2021-10-14T11:43:17.295Z"
   },
   {
    "duration": 2367,
    "start_time": "2021-10-14T11:43:22.749Z"
   },
   {
    "duration": 3,
    "start_time": "2021-10-14T11:43:29.477Z"
   },
   {
    "duration": 2,
    "start_time": "2021-10-14T11:43:29.909Z"
   },
   {
    "duration": 4,
    "start_time": "2021-10-14T11:43:31.854Z"
   },
   {
    "duration": 320,
    "start_time": "2021-10-14T11:43:52.390Z"
   },
   {
    "duration": 830,
    "start_time": "2021-10-14T11:44:58.093Z"
   },
   {
    "duration": 642,
    "start_time": "2021-10-14T11:46:31.434Z"
   },
   {
    "duration": 666,
    "start_time": "2021-10-14T11:46:32.565Z"
   },
   {
    "duration": 22,
    "start_time": "2021-10-14T11:46:33.233Z"
   },
   {
    "duration": 30,
    "start_time": "2021-10-14T11:46:33.382Z"
   },
   {
    "duration": 239,
    "start_time": "2021-10-14T11:46:35.086Z"
   },
   {
    "duration": 29,
    "start_time": "2021-10-14T11:46:35.495Z"
   },
   {
    "duration": 2153,
    "start_time": "2021-10-14T11:46:36.256Z"
   },
   {
    "duration": 3,
    "start_time": "2021-10-14T11:46:41.056Z"
   },
   {
    "duration": 3,
    "start_time": "2021-10-14T11:46:41.533Z"
   },
   {
    "duration": 718,
    "start_time": "2021-10-14T11:46:42.926Z"
   },
   {
    "duration": 5,
    "start_time": "2021-10-14T11:47:46.335Z"
   },
   {
    "duration": 633,
    "start_time": "2021-10-14T11:50:09.828Z"
   },
   {
    "duration": 667,
    "start_time": "2021-10-14T11:50:10.463Z"
   },
   {
    "duration": 16,
    "start_time": "2021-10-14T11:50:12.419Z"
   },
   {
    "duration": 30,
    "start_time": "2021-10-14T11:50:12.773Z"
   },
   {
    "duration": 242,
    "start_time": "2021-10-14T11:50:27.111Z"
   },
   {
    "duration": 27,
    "start_time": "2021-10-14T11:50:28.404Z"
   },
   {
    "duration": 2115,
    "start_time": "2021-10-14T11:50:32.244Z"
   },
   {
    "duration": 3,
    "start_time": "2021-10-14T11:50:35.190Z"
   },
   {
    "duration": 4,
    "start_time": "2021-10-14T11:50:37.000Z"
   },
   {
    "duration": 1002,
    "start_time": "2021-10-14T11:50:41.294Z"
   },
   {
    "duration": 606,
    "start_time": "2021-10-14T11:54:03.862Z"
   },
   {
    "duration": 679,
    "start_time": "2021-10-14T11:54:04.470Z"
   },
   {
    "duration": 15,
    "start_time": "2021-10-14T11:54:05.151Z"
   },
   {
    "duration": 30,
    "start_time": "2021-10-14T11:54:06.994Z"
   },
   {
    "duration": 240,
    "start_time": "2021-10-14T11:54:09.149Z"
   },
   {
    "duration": 29,
    "start_time": "2021-10-14T11:54:09.542Z"
   },
   {
    "duration": 854,
    "start_time": "2021-10-14T11:54:10.477Z"
   },
   {
    "duration": 390,
    "start_time": "2021-10-14T11:54:33.021Z"
   },
   {
    "duration": 3,
    "start_time": "2021-10-14T11:54:46.991Z"
   },
   {
    "duration": 2204,
    "start_time": "2021-10-14T11:55:04.135Z"
   },
   {
    "duration": 3,
    "start_time": "2021-10-14T11:55:08.022Z"
   },
   {
    "duration": 3,
    "start_time": "2021-10-14T11:55:36.014Z"
   },
   {
    "duration": 1303,
    "start_time": "2021-10-14T11:55:37.206Z"
   },
   {
    "duration": 3,
    "start_time": "2021-10-14T11:58:32.934Z"
   },
   {
    "duration": 3,
    "start_time": "2021-10-14T11:58:59.193Z"
   },
   {
    "duration": 667,
    "start_time": "2021-10-14T12:00:02.040Z"
   },
   {
    "duration": 664,
    "start_time": "2021-10-14T12:00:03.209Z"
   },
   {
    "duration": 14,
    "start_time": "2021-10-14T12:00:03.889Z"
   },
   {
    "duration": 32,
    "start_time": "2021-10-14T12:00:06.768Z"
   },
   {
    "duration": 232,
    "start_time": "2021-10-14T12:00:07.626Z"
   },
   {
    "duration": 29,
    "start_time": "2021-10-14T12:00:08.015Z"
   },
   {
    "duration": 872,
    "start_time": "2021-10-14T12:00:12.400Z"
   },
   {
    "duration": 2,
    "start_time": "2021-10-14T12:00:20.130Z"
   },
   {
    "duration": 345,
    "start_time": "2021-10-14T12:01:11.824Z"
   },
   {
    "duration": 10,
    "start_time": "2021-10-14T12:01:20.671Z"
   },
   {
    "duration": 4,
    "start_time": "2021-10-14T12:01:29.641Z"
   },
   {
    "duration": 3,
    "start_time": "2021-10-14T12:01:41.399Z"
   },
   {
    "duration": 1359,
    "start_time": "2021-10-14T12:02:13.552Z"
   },
   {
    "duration": 2245,
    "start_time": "2021-10-14T12:02:33.480Z"
   },
   {
    "duration": 4,
    "start_time": "2021-10-14T12:02:50.287Z"
   },
   {
    "duration": 4,
    "start_time": "2021-10-14T12:03:07.974Z"
   },
   {
    "duration": 586,
    "start_time": "2021-10-14T12:06:17.863Z"
   },
   {
    "duration": 663,
    "start_time": "2021-10-14T12:06:18.823Z"
   },
   {
    "duration": 15,
    "start_time": "2021-10-14T12:06:19.487Z"
   },
   {
    "duration": 46,
    "start_time": "2021-10-14T12:06:19.503Z"
   },
   {
    "duration": 231,
    "start_time": "2021-10-14T12:06:19.663Z"
   },
   {
    "duration": 31,
    "start_time": "2021-10-14T12:06:21.838Z"
   },
   {
    "duration": 2,
    "start_time": "2021-10-14T12:06:22.094Z"
   },
   {
    "duration": 2,
    "start_time": "2021-10-14T12:06:23.398Z"
   },
   {
    "duration": 86,
    "start_time": "2021-10-14T12:06:24.154Z"
   },
   {
    "duration": 595,
    "start_time": "2021-10-14T12:06:42.855Z"
   },
   {
    "duration": 3,
    "start_time": "2021-10-14T12:07:08.230Z"
   },
   {
    "duration": 34604,
    "start_time": "2021-10-14T12:08:47.777Z"
   },
   {
    "duration": 11,
    "start_time": "2021-10-14T12:09:40.846Z"
   },
   {
    "duration": 4,
    "start_time": "2021-10-14T12:09:55.286Z"
   },
   {
    "duration": 359,
    "start_time": "2021-10-14T12:12:24.815Z"
   },
   {
    "duration": 598,
    "start_time": "2021-10-14T12:13:20.183Z"
   },
   {
    "duration": 684,
    "start_time": "2021-10-14T12:13:21.409Z"
   },
   {
    "duration": 16,
    "start_time": "2021-10-14T12:13:23.439Z"
   },
   {
    "duration": 8,
    "start_time": "2021-10-14T12:13:28.857Z"
   },
   {
    "duration": 32,
    "start_time": "2021-10-14T12:13:31.855Z"
   },
   {
    "duration": 237,
    "start_time": "2021-10-14T12:13:36.127Z"
   },
   {
    "duration": 30,
    "start_time": "2021-10-14T12:13:36.471Z"
   },
   {
    "duration": 637,
    "start_time": "2021-10-14T12:13:40.792Z"
   },
   {
    "duration": 86,
    "start_time": "2021-10-14T12:13:44.035Z"
   },
   {
    "duration": 77,
    "start_time": "2021-10-14T12:14:05.888Z"
   },
   {
    "duration": 3,
    "start_time": "2021-10-14T12:14:44.895Z"
   },
   {
    "duration": 607,
    "start_time": "2021-10-14T12:15:02.354Z"
   },
   {
    "duration": 662,
    "start_time": "2021-10-14T12:15:02.964Z"
   },
   {
    "duration": 14,
    "start_time": "2021-10-14T12:15:04.398Z"
   },
   {
    "duration": 31,
    "start_time": "2021-10-14T12:15:04.998Z"
   },
   {
    "duration": 235,
    "start_time": "2021-10-14T12:15:07.277Z"
   },
   {
    "duration": 30,
    "start_time": "2021-10-14T12:15:07.609Z"
   },
   {
    "duration": 601,
    "start_time": "2021-10-14T12:15:09.533Z"
   },
   {
    "duration": 3,
    "start_time": "2021-10-14T12:15:13.128Z"
   },
   {
    "duration": 36091,
    "start_time": "2021-10-14T12:15:15.264Z"
   },
   {
    "duration": 9,
    "start_time": "2021-10-14T12:16:02.815Z"
   },
   {
    "duration": 3,
    "start_time": "2021-10-14T12:16:49.007Z"
   },
   {
    "duration": 1416,
    "start_time": "2021-10-14T12:17:15.527Z"
   },
   {
    "duration": 3,
    "start_time": "2021-10-14T12:17:33.566Z"
   },
   {
    "duration": 335,
    "start_time": "2021-10-14T12:17:34.661Z"
   },
   {
    "duration": 3,
    "start_time": "2021-10-14T12:17:39.462Z"
   },
   {
    "duration": 4,
    "start_time": "2021-10-14T12:17:49.235Z"
   },
   {
    "duration": 1247,
    "start_time": "2021-10-14T12:17:49.765Z"
   },
   {
    "duration": 4,
    "start_time": "2021-10-14T12:17:52.958Z"
   },
   {
    "duration": 605,
    "start_time": "2021-10-14T12:18:03.459Z"
   },
   {
    "duration": 679,
    "start_time": "2021-10-14T12:18:04.678Z"
   },
   {
    "duration": 16,
    "start_time": "2021-10-14T12:18:05.549Z"
   },
   {
    "duration": 34,
    "start_time": "2021-10-14T12:18:07.725Z"
   },
   {
    "duration": 239,
    "start_time": "2021-10-14T12:18:08.588Z"
   },
   {
    "duration": 31,
    "start_time": "2021-10-14T12:18:09.043Z"
   },
   {
    "duration": 634,
    "start_time": "2021-10-14T12:18:10.723Z"
   },
   {
    "duration": 4,
    "start_time": "2021-10-14T12:18:11.459Z"
   },
   {
    "duration": 37513,
    "start_time": "2021-10-14T12:18:12.707Z"
   },
   {
    "duration": 9,
    "start_time": "2021-10-14T12:18:50.222Z"
   },
   {
    "duration": 5,
    "start_time": "2021-10-14T12:18:55.595Z"
   },
   {
    "duration": 734,
    "start_time": "2021-10-14T12:18:56.651Z"
   },
   {
    "duration": 4,
    "start_time": "2021-10-14T12:19:10.766Z"
   },
   {
    "duration": 2,
    "start_time": "2021-10-14T12:20:59.412Z"
   },
   {
    "duration": 1167,
    "start_time": "2021-10-14T12:21:00.044Z"
   },
   {
    "duration": 4,
    "start_time": "2021-10-14T12:21:01.740Z"
   },
   {
    "duration": 548,
    "start_time": "2021-10-14T12:22:24.804Z"
   },
   {
    "duration": 673,
    "start_time": "2021-10-14T12:22:25.356Z"
   },
   {
    "duration": 25,
    "start_time": "2021-10-14T12:22:26.031Z"
   },
   {
    "duration": 32,
    "start_time": "2021-10-14T12:22:26.058Z"
   },
   {
    "duration": 276,
    "start_time": "2021-10-14T12:22:26.092Z"
   },
   {
    "duration": 28,
    "start_time": "2021-10-14T12:22:26.370Z"
   },
   {
    "duration": 8,
    "start_time": "2021-10-14T12:22:28.368Z"
   },
   {
    "duration": 7,
    "start_time": "2021-10-14T12:23:43.961Z"
   },
   {
    "duration": 661,
    "start_time": "2021-10-14T12:23:53.474Z"
   },
   {
    "duration": 582,
    "start_time": "2021-10-15T05:00:11.695Z"
   },
   {
    "duration": 762,
    "start_time": "2021-10-15T05:00:13.482Z"
   },
   {
    "duration": 19,
    "start_time": "2021-10-15T05:00:14.245Z"
   },
   {
    "duration": 30,
    "start_time": "2021-10-15T05:00:14.267Z"
   },
   {
    "duration": 251,
    "start_time": "2021-10-15T05:00:14.299Z"
   },
   {
    "duration": 33,
    "start_time": "2021-10-15T05:00:14.552Z"
   },
   {
    "duration": 471,
    "start_time": "2021-10-15T05:03:09.360Z"
   },
   {
    "duration": 250,
    "start_time": "2021-10-15T05:03:11.795Z"
   },
   {
    "duration": 244,
    "start_time": "2021-10-15T05:03:26.278Z"
   },
   {
    "duration": 5428,
    "start_time": "2021-10-15T05:03:36.768Z"
   },
   {
    "duration": 597,
    "start_time": "2021-10-15T05:04:09.478Z"
   },
   {
    "duration": 675,
    "start_time": "2021-10-15T05:04:10.077Z"
   },
   {
    "duration": 20,
    "start_time": "2021-10-15T05:04:10.754Z"
   },
   {
    "duration": 31,
    "start_time": "2021-10-15T05:04:10.776Z"
   },
   {
    "duration": 240,
    "start_time": "2021-10-15T05:04:13.021Z"
   },
   {
    "duration": 30,
    "start_time": "2021-10-15T05:04:13.312Z"
   },
   {
    "duration": 303,
    "start_time": "2021-10-15T05:04:18.295Z"
   },
   {
    "duration": 4032,
    "start_time": "2021-10-15T05:04:21.776Z"
   },
   {
    "duration": 255,
    "start_time": "2021-10-15T05:04:28.674Z"
   },
   {
    "duration": 686,
    "start_time": "2021-10-15T05:06:49.014Z"
   },
   {
    "duration": 3,
    "start_time": "2021-10-15T05:07:01.000Z"
   },
   {
    "duration": 3,
    "start_time": "2021-10-15T05:07:48.903Z"
   },
   {
    "duration": 10,
    "start_time": "2021-10-15T05:08:26.602Z"
   },
   {
    "duration": 767,
    "start_time": "2021-10-15T05:08:48.071Z"
   },
   {
    "duration": 3,
    "start_time": "2021-10-15T05:09:28.970Z"
   },
   {
    "duration": 3,
    "start_time": "2021-10-15T05:09:30.119Z"
   },
   {
    "duration": 4,
    "start_time": "2021-10-15T05:09:32.169Z"
   },
   {
    "duration": 4,
    "start_time": "2021-10-15T05:09:33.267Z"
   },
   {
    "duration": 501,
    "start_time": "2021-10-15T05:09:33.972Z"
   },
   {
    "duration": 4,
    "start_time": "2021-10-15T05:09:56.336Z"
   },
   {
    "duration": 4,
    "start_time": "2021-10-15T05:09:57.093Z"
   },
   {
    "duration": 699,
    "start_time": "2021-10-15T05:09:57.597Z"
   },
   {
    "duration": 579,
    "start_time": "2021-10-15T05:13:49.680Z"
   },
   {
    "duration": 662,
    "start_time": "2021-10-15T05:13:50.707Z"
   },
   {
    "duration": 13,
    "start_time": "2021-10-15T05:13:51.371Z"
   },
   {
    "duration": 32,
    "start_time": "2021-10-15T05:13:51.386Z"
   },
   {
    "duration": 231,
    "start_time": "2021-10-15T05:13:51.617Z"
   },
   {
    "duration": 29,
    "start_time": "2021-10-15T05:13:53.876Z"
   },
   {
    "duration": 591,
    "start_time": "2021-10-15T05:13:55.152Z"
   },
   {
    "duration": 3,
    "start_time": "2021-10-15T05:13:57.613Z"
   },
   {
    "duration": 4,
    "start_time": "2021-10-15T05:13:58.464Z"
   },
   {
    "duration": 10,
    "start_time": "2021-10-15T05:14:00.088Z"
   },
   {
    "duration": 1330,
    "start_time": "2021-10-15T05:14:00.650Z"
   },
   {
    "duration": 738,
    "start_time": "2021-10-15T05:14:23.368Z"
   },
   {
    "duration": 664,
    "start_time": "2021-10-15T05:14:24.108Z"
   },
   {
    "duration": 14,
    "start_time": "2021-10-15T05:14:24.775Z"
   },
   {
    "duration": 31,
    "start_time": "2021-10-15T05:14:24.791Z"
   },
   {
    "duration": 255,
    "start_time": "2021-10-15T05:14:24.824Z"
   },
   {
    "duration": 29,
    "start_time": "2021-10-15T05:14:26.698Z"
   },
   {
    "duration": 632,
    "start_time": "2021-10-15T05:14:28.716Z"
   },
   {
    "duration": 3,
    "start_time": "2021-10-15T05:14:30.560Z"
   },
   {
    "duration": 3,
    "start_time": "2021-10-15T05:14:31.479Z"
   },
   {
    "duration": 10,
    "start_time": "2021-10-15T05:14:32.242Z"
   },
   {
    "duration": 1299,
    "start_time": "2021-10-15T05:14:32.706Z"
   },
   {
    "duration": 2,
    "start_time": "2021-10-15T05:15:43.480Z"
   },
   {
    "duration": 595,
    "start_time": "2021-10-15T05:15:47.971Z"
   },
   {
    "duration": 676,
    "start_time": "2021-10-15T05:15:48.567Z"
   },
   {
    "duration": 19,
    "start_time": "2021-10-15T05:15:49.245Z"
   },
   {
    "duration": 29,
    "start_time": "2021-10-15T05:15:51.051Z"
   },
   {
    "duration": 231,
    "start_time": "2021-10-15T05:15:51.387Z"
   },
   {
    "duration": 29,
    "start_time": "2021-10-15T05:15:51.620Z"
   },
   {
    "duration": 599,
    "start_time": "2021-10-15T05:15:53.932Z"
   },
   {
    "duration": 3,
    "start_time": "2021-10-15T05:15:55.277Z"
   },
   {
    "duration": 3,
    "start_time": "2021-10-15T05:15:57.222Z"
   },
   {
    "duration": 9,
    "start_time": "2021-10-15T05:15:58.707Z"
   },
   {
    "duration": 1329,
    "start_time": "2021-10-15T05:15:59.340Z"
   },
   {
    "duration": 586,
    "start_time": "2021-10-15T05:16:32.672Z"
   },
   {
    "duration": 648,
    "start_time": "2021-10-15T05:16:33.260Z"
   },
   {
    "duration": 13,
    "start_time": "2021-10-15T05:16:33.910Z"
   },
   {
    "duration": 38,
    "start_time": "2021-10-15T05:16:33.925Z"
   },
   {
    "duration": 235,
    "start_time": "2021-10-15T05:16:34.241Z"
   },
   {
    "duration": 28,
    "start_time": "2021-10-15T05:16:35.896Z"
   },
   {
    "duration": 608,
    "start_time": "2021-10-15T05:16:38.176Z"
   },
   {
    "duration": 3,
    "start_time": "2021-10-15T05:16:38.785Z"
   },
   {
    "duration": 3,
    "start_time": "2021-10-15T05:16:39.136Z"
   },
   {
    "duration": 10,
    "start_time": "2021-10-15T05:16:39.623Z"
   },
   {
    "duration": 1279,
    "start_time": "2021-10-15T05:16:40.016Z"
   },
   {
    "duration": 3,
    "start_time": "2021-10-15T05:22:32.201Z"
   },
   {
    "duration": 597,
    "start_time": "2021-10-15T05:23:27.424Z"
   },
   {
    "duration": 693,
    "start_time": "2021-10-15T05:23:28.023Z"
   },
   {
    "duration": 15,
    "start_time": "2021-10-15T05:23:28.718Z"
   },
   {
    "duration": 47,
    "start_time": "2021-10-15T05:23:28.735Z"
   },
   {
    "duration": 246,
    "start_time": "2021-10-15T05:23:28.784Z"
   },
   {
    "duration": 35,
    "start_time": "2021-10-15T05:23:29.032Z"
   },
   {
    "duration": 7,
    "start_time": "2021-10-15T05:23:31.241Z"
   },
   {
    "duration": 293,
    "start_time": "2021-10-15T05:23:33.148Z"
   },
   {
    "duration": 592,
    "start_time": "2021-10-15T05:23:36.241Z"
   },
   {
    "duration": 3,
    "start_time": "2021-10-15T05:23:44.333Z"
   },
   {
    "duration": 4,
    "start_time": "2021-10-15T05:23:46.005Z"
   },
   {
    "duration": 578,
    "start_time": "2021-10-15T05:25:22.588Z"
   },
   {
    "duration": 637,
    "start_time": "2021-10-15T05:25:23.168Z"
   },
   {
    "duration": 13,
    "start_time": "2021-10-15T05:25:23.807Z"
   },
   {
    "duration": 43,
    "start_time": "2021-10-15T05:25:23.822Z"
   },
   {
    "duration": 235,
    "start_time": "2021-10-15T05:25:23.867Z"
   },
   {
    "duration": 30,
    "start_time": "2021-10-15T05:25:24.104Z"
   },
   {
    "duration": 649,
    "start_time": "2021-10-15T05:25:29.005Z"
   },
   {
    "duration": 3,
    "start_time": "2021-10-15T05:25:30.541Z"
   },
   {
    "duration": 33677,
    "start_time": "2021-10-15T05:25:32.313Z"
   },
   {
    "duration": 10,
    "start_time": "2021-10-15T05:26:28.730Z"
   },
   {
    "duration": 3,
    "start_time": "2021-10-15T05:26:39.172Z"
   },
   {
    "duration": 785,
    "start_time": "2021-10-15T05:26:39.972Z"
   },
   {
    "duration": 6,
    "start_time": "2021-10-15T05:26:40.759Z"
   },
   {
    "duration": 9,
    "start_time": "2021-10-15T05:28:39.694Z"
   },
   {
    "duration": 6,
    "start_time": "2021-10-15T05:29:54.067Z"
   },
   {
    "duration": 5,
    "start_time": "2021-10-15T05:30:04.528Z"
   },
   {
    "duration": 6,
    "start_time": "2021-10-15T05:30:15.288Z"
   },
   {
    "duration": 4,
    "start_time": "2021-10-15T05:30:56.817Z"
   },
   {
    "duration": 4,
    "start_time": "2021-10-15T05:31:08.227Z"
   },
   {
    "duration": 4,
    "start_time": "2021-10-15T05:31:14.171Z"
   },
   {
    "duration": 4,
    "start_time": "2021-10-15T05:32:39.359Z"
   },
   {
    "duration": 5,
    "start_time": "2021-10-15T05:32:56.089Z"
   },
   {
    "duration": 3,
    "start_time": "2021-10-15T05:34:11.782Z"
   },
   {
    "duration": 3,
    "start_time": "2021-10-15T05:34:52.939Z"
   },
   {
    "duration": 4,
    "start_time": "2021-10-15T05:35:03.957Z"
   },
   {
    "duration": 1808,
    "start_time": "2021-10-15T05:35:51.183Z"
   },
   {
    "duration": 8,
    "start_time": "2021-10-15T05:36:01.701Z"
   },
   {
    "duration": 3,
    "start_time": "2021-10-15T05:37:40.363Z"
   },
   {
    "duration": 8,
    "start_time": "2021-10-15T05:44:26.531Z"
   },
   {
    "duration": 3,
    "start_time": "2021-10-15T05:46:47.256Z"
   },
   {
    "duration": 77,
    "start_time": "2021-10-15T05:47:24.037Z"
   },
   {
    "duration": 340,
    "start_time": "2021-10-15T05:49:52.308Z"
   },
   {
    "duration": 74,
    "start_time": "2021-10-15T05:50:03.387Z"
   },
   {
    "duration": 57,
    "start_time": "2021-10-15T05:50:19.956Z"
   },
   {
    "duration": 24,
    "start_time": "2021-10-15T05:50:39.775Z"
   },
   {
    "duration": 4,
    "start_time": "2021-10-15T05:53:09.517Z"
   },
   {
    "duration": 3,
    "start_time": "2021-10-15T05:59:43.146Z"
   },
   {
    "duration": 3,
    "start_time": "2021-10-15T05:59:57.352Z"
   },
   {
    "duration": 3,
    "start_time": "2021-10-15T06:00:16.694Z"
   },
   {
    "duration": 248,
    "start_time": "2021-10-15T06:02:27.024Z"
   },
   {
    "duration": 4,
    "start_time": "2021-10-15T06:03:39.922Z"
   },
   {
    "duration": 3,
    "start_time": "2021-10-15T06:04:30.061Z"
   },
   {
    "duration": 240,
    "start_time": "2021-10-15T06:05:38.822Z"
   },
   {
    "duration": 4818,
    "start_time": "2021-10-15T06:05:54.575Z"
   },
   {
    "duration": 9686,
    "start_time": "2021-10-15T06:06:54.991Z"
   },
   {
    "duration": 11621,
    "start_time": "2021-10-15T06:07:43.446Z"
   },
   {
    "duration": 284,
    "start_time": "2021-10-15T13:23:50.201Z"
   },
   {
    "duration": 1041,
    "start_time": "2021-10-15T13:24:31.076Z"
   },
   {
    "duration": 2970,
    "start_time": "2021-10-15T13:24:33.577Z"
   },
   {
    "duration": 12,
    "start_time": "2021-10-15T13:24:36.549Z"
   },
   {
    "duration": 27,
    "start_time": "2021-10-15T13:24:36.563Z"
   },
   {
    "duration": 206,
    "start_time": "2021-10-15T13:24:38.667Z"
   },
   {
    "duration": 23,
    "start_time": "2021-10-15T13:24:39.426Z"
   },
   {
    "duration": 128,
    "start_time": "2021-10-15T13:24:40.337Z"
   },
   {
    "duration": 3,
    "start_time": "2021-10-15T13:24:42.217Z"
   },
   {
    "duration": 33360,
    "start_time": "2021-10-15T13:24:42.595Z"
   },
   {
    "duration": 3,
    "start_time": "2021-10-15T13:25:15.957Z"
   },
   {
    "duration": 569,
    "start_time": "2021-10-15T13:25:15.962Z"
   },
   {
    "duration": 3,
    "start_time": "2021-10-15T13:25:38.098Z"
   },
   {
    "duration": 1874,
    "start_time": "2021-10-15T13:25:38.786Z"
   },
   {
    "duration": 7,
    "start_time": "2021-10-15T13:25:43.570Z"
   },
   {
    "duration": 52,
    "start_time": "2021-10-15T13:25:44.105Z"
   },
   {
    "duration": 43,
    "start_time": "2021-10-15T13:25:44.610Z"
   },
   {
    "duration": 20,
    "start_time": "2021-10-15T13:25:45.314Z"
   },
   {
    "duration": 3,
    "start_time": "2021-10-15T13:25:47.323Z"
   },
   {
    "duration": 3,
    "start_time": "2021-10-15T13:25:49.458Z"
   },
   {
    "duration": 3,
    "start_time": "2021-10-15T13:25:49.986Z"
   },
   {
    "duration": 10845,
    "start_time": "2021-10-15T13:25:50.450Z"
   },
   {
    "duration": 9706,
    "start_time": "2021-10-15T13:27:06.186Z"
   },
   {
    "duration": 6,
    "start_time": "2021-10-15T13:28:06.698Z"
   },
   {
    "duration": 3,
    "start_time": "2021-10-15T13:28:34.267Z"
   },
   {
    "duration": 3,
    "start_time": "2021-10-15T13:30:40.820Z"
   },
   {
    "duration": 2,
    "start_time": "2021-10-15T13:33:00.698Z"
   },
   {
    "duration": 16,
    "start_time": "2021-10-15T13:33:14.062Z"
   },
   {
    "duration": 3,
    "start_time": "2021-10-15T13:35:51.102Z"
   },
   {
    "duration": 16,
    "start_time": "2021-10-15T13:35:52.012Z"
   },
   {
    "duration": 4,
    "start_time": "2021-10-15T13:35:52.859Z"
   },
   {
    "duration": 3,
    "start_time": "2021-10-15T13:38:51.630Z"
   },
   {
    "duration": 1094,
    "start_time": "2021-10-15T13:45:01.563Z"
   },
   {
    "duration": 576,
    "start_time": "2021-10-15T13:45:03.419Z"
   },
   {
    "duration": 13,
    "start_time": "2021-10-15T13:45:04.451Z"
   },
   {
    "duration": 24,
    "start_time": "2021-10-15T13:45:06.506Z"
   },
   {
    "duration": 217,
    "start_time": "2021-10-15T13:45:08.971Z"
   },
   {
    "duration": 24,
    "start_time": "2021-10-15T13:45:09.642Z"
   },
   {
    "duration": 123,
    "start_time": "2021-10-15T13:45:11.766Z"
   },
   {
    "duration": 3,
    "start_time": "2021-10-15T13:45:12.211Z"
   },
   {
    "duration": 33896,
    "start_time": "2021-10-15T13:45:12.715Z"
   },
   {
    "duration": 3,
    "start_time": "2021-10-15T13:45:46.612Z"
   },
   {
    "duration": 578,
    "start_time": "2021-10-15T13:45:46.617Z"
   },
   {
    "duration": 3,
    "start_time": "2021-10-15T13:45:59.110Z"
   },
   {
    "duration": 1793,
    "start_time": "2021-10-15T13:45:59.482Z"
   },
   {
    "duration": 14,
    "start_time": "2021-10-15T13:46:02.593Z"
   },
   {
    "duration": 54,
    "start_time": "2021-10-15T13:46:03.390Z"
   },
   {
    "duration": 44,
    "start_time": "2021-10-15T13:46:03.883Z"
   },
   {
    "duration": 20,
    "start_time": "2021-10-15T13:46:05.310Z"
   },
   {
    "duration": 3,
    "start_time": "2021-10-15T13:46:06.723Z"
   },
   {
    "duration": 3,
    "start_time": "2021-10-15T13:46:08.779Z"
   },
   {
    "duration": 3,
    "start_time": "2021-10-15T13:46:09.179Z"
   },
   {
    "duration": 10671,
    "start_time": "2021-10-15T13:46:09.595Z"
   },
   {
    "duration": 10027,
    "start_time": "2021-10-15T13:46:26.868Z"
   },
   {
    "duration": 7,
    "start_time": "2021-10-15T13:46:44.620Z"
   },
   {
    "duration": 1242,
    "start_time": "2021-10-15T13:46:47.987Z"
   },
   {
    "duration": 19,
    "start_time": "2021-10-15T13:46:52.906Z"
   },
   {
    "duration": 3,
    "start_time": "2021-10-15T13:47:46.405Z"
   },
   {
    "duration": 31,
    "start_time": "2021-10-15T13:47:48.539Z"
   },
   {
    "duration": 4,
    "start_time": "2021-10-15T13:47:49.467Z"
   },
   {
    "duration": 851,
    "start_time": "2021-10-15T13:47:59.932Z"
   },
   {
    "duration": 11,
    "start_time": "2021-10-15T13:48:01.547Z"
   },
   {
    "duration": 2,
    "start_time": "2021-10-15T13:48:03.804Z"
   },
   {
    "duration": 27,
    "start_time": "2021-10-15T13:48:03.987Z"
   },
   {
    "duration": 3,
    "start_time": "2021-10-15T13:48:04.251Z"
   },
   {
    "duration": 1773,
    "start_time": "2021-10-15T13:48:49.587Z"
   },
   {
    "duration": 11,
    "start_time": "2021-10-15T13:48:52.107Z"
   },
   {
    "duration": 3,
    "start_time": "2021-10-15T13:48:54.458Z"
   },
   {
    "duration": 26,
    "start_time": "2021-10-15T13:48:54.732Z"
   },
   {
    "duration": 4,
    "start_time": "2021-10-15T13:48:55.118Z"
   },
   {
    "duration": 2048,
    "start_time": "2021-10-15T13:49:05.458Z"
   },
   {
    "duration": 10,
    "start_time": "2021-10-15T13:49:09.012Z"
   },
   {
    "duration": 2,
    "start_time": "2021-10-15T13:49:10.252Z"
   },
   {
    "duration": 26,
    "start_time": "2021-10-15T13:49:10.412Z"
   },
   {
    "duration": 3,
    "start_time": "2021-10-15T13:49:10.612Z"
   },
   {
    "duration": 2566,
    "start_time": "2021-10-15T13:49:18.762Z"
   },
   {
    "duration": 14,
    "start_time": "2021-10-15T13:49:21.330Z"
   },
   {
    "duration": 2,
    "start_time": "2021-10-15T13:49:21.347Z"
   },
   {
    "duration": 43,
    "start_time": "2021-10-15T13:49:21.350Z"
   },
   {
    "duration": 3,
    "start_time": "2021-10-15T13:49:21.395Z"
   },
   {
    "duration": 2919,
    "start_time": "2021-10-15T13:49:31.147Z"
   },
   {
    "duration": 10,
    "start_time": "2021-10-15T13:49:34.068Z"
   },
   {
    "duration": 2,
    "start_time": "2021-10-15T13:49:34.080Z"
   },
   {
    "duration": 30,
    "start_time": "2021-10-15T13:49:34.084Z"
   },
   {
    "duration": 3,
    "start_time": "2021-10-15T13:49:34.116Z"
   },
   {
    "duration": 3374,
    "start_time": "2021-10-15T13:49:42.724Z"
   },
   {
    "duration": 9,
    "start_time": "2021-10-15T13:49:46.100Z"
   },
   {
    "duration": 4,
    "start_time": "2021-10-15T13:49:46.111Z"
   },
   {
    "duration": 45,
    "start_time": "2021-10-15T13:49:46.117Z"
   },
   {
    "duration": 3,
    "start_time": "2021-10-15T13:49:46.164Z"
   },
   {
    "duration": 3984,
    "start_time": "2021-10-15T13:49:55.092Z"
   },
   {
    "duration": 10,
    "start_time": "2021-10-15T13:49:59.077Z"
   },
   {
    "duration": 3,
    "start_time": "2021-10-15T13:49:59.088Z"
   },
   {
    "duration": 30,
    "start_time": "2021-10-15T13:49:59.092Z"
   },
   {
    "duration": 3,
    "start_time": "2021-10-15T13:49:59.123Z"
   },
   {
    "duration": 4266,
    "start_time": "2021-10-15T13:50:10.131Z"
   },
   {
    "duration": 10,
    "start_time": "2021-10-15T13:50:14.399Z"
   },
   {
    "duration": 4,
    "start_time": "2021-10-15T13:50:14.410Z"
   },
   {
    "duration": 46,
    "start_time": "2021-10-15T13:50:14.416Z"
   },
   {
    "duration": 3,
    "start_time": "2021-10-15T13:50:14.464Z"
   },
   {
    "duration": 7159,
    "start_time": "2021-10-15T13:50:24.430Z"
   },
   {
    "duration": 10,
    "start_time": "2021-10-15T13:50:31.590Z"
   },
   {
    "duration": 10,
    "start_time": "2021-10-15T13:50:31.602Z"
   },
   {
    "duration": 57,
    "start_time": "2021-10-15T13:50:31.613Z"
   },
   {
    "duration": 3,
    "start_time": "2021-10-15T13:50:31.672Z"
   },
   {
    "duration": 9264,
    "start_time": "2021-10-15T13:50:43.939Z"
   },
   {
    "duration": 11,
    "start_time": "2021-10-15T13:50:53.205Z"
   },
   {
    "duration": 2,
    "start_time": "2021-10-15T13:50:53.218Z"
   },
   {
    "duration": 45,
    "start_time": "2021-10-15T13:50:53.222Z"
   },
   {
    "duration": 4,
    "start_time": "2021-10-15T13:50:53.269Z"
   },
   {
    "duration": 11353,
    "start_time": "2021-10-15T13:51:03.379Z"
   },
   {
    "duration": 16,
    "start_time": "2021-10-15T13:51:14.733Z"
   },
   {
    "duration": 10,
    "start_time": "2021-10-15T13:51:14.751Z"
   },
   {
    "duration": 41,
    "start_time": "2021-10-15T13:51:14.763Z"
   },
   {
    "duration": 6,
    "start_time": "2021-10-15T13:51:14.806Z"
   },
   {
    "duration": 23021,
    "start_time": "2021-10-15T13:51:24.052Z"
   },
   {
    "duration": 14,
    "start_time": "2021-10-15T13:51:47.075Z"
   },
   {
    "duration": 3,
    "start_time": "2021-10-15T13:51:47.091Z"
   },
   {
    "duration": 49,
    "start_time": "2021-10-15T13:51:47.095Z"
   },
   {
    "duration": 4,
    "start_time": "2021-10-15T13:51:47.147Z"
   },
   {
    "duration": 43893,
    "start_time": "2021-10-15T13:52:00.556Z"
   },
   {
    "duration": 20,
    "start_time": "2021-10-15T13:52:44.450Z"
   },
   {
    "duration": 7,
    "start_time": "2021-10-15T13:52:44.472Z"
   },
   {
    "duration": 38,
    "start_time": "2021-10-15T13:52:44.481Z"
   },
   {
    "duration": 3,
    "start_time": "2021-10-15T13:52:44.521Z"
   },
   {
    "duration": 64720,
    "start_time": "2021-10-15T13:52:54.732Z"
   },
   {
    "duration": 26,
    "start_time": "2021-10-15T13:53:59.454Z"
   },
   {
    "duration": 2,
    "start_time": "2021-10-15T13:53:59.482Z"
   },
   {
    "duration": 29,
    "start_time": "2021-10-15T13:53:59.486Z"
   },
   {
    "duration": 4,
    "start_time": "2021-10-15T13:53:59.516Z"
   },
   {
    "duration": 23381,
    "start_time": "2021-10-15T13:55:24.426Z"
   },
   {
    "duration": 16,
    "start_time": "2021-10-15T13:55:47.809Z"
   },
   {
    "duration": 17,
    "start_time": "2021-10-15T13:55:47.827Z"
   },
   {
    "duration": 29,
    "start_time": "2021-10-15T13:55:47.847Z"
   },
   {
    "duration": 4,
    "start_time": "2021-10-15T13:55:47.878Z"
   },
   {
    "duration": 402,
    "start_time": "2021-10-15T13:57:56.405Z"
   },
   {
    "duration": 9,
    "start_time": "2021-10-15T13:59:40.147Z"
   },
   {
    "duration": 3080,
    "start_time": "2021-10-15T13:59:53.860Z"
   },
   {
    "duration": 107,
    "start_time": "2021-10-15T14:00:00.461Z"
   },
   {
    "duration": 3,
    "start_time": "2021-10-15T14:00:03.780Z"
   },
   {
    "duration": 40,
    "start_time": "2021-10-15T14:00:04.039Z"
   },
   {
    "duration": 4,
    "start_time": "2021-10-15T14:00:04.403Z"
   },
   {
    "duration": 634,
    "start_time": "2021-10-15T14:00:22.332Z"
   },
   {
    "duration": 63,
    "start_time": "2021-10-15T14:00:23.852Z"
   },
   {
    "duration": 3,
    "start_time": "2021-10-15T14:00:25.323Z"
   },
   {
    "duration": 45,
    "start_time": "2021-10-15T14:00:25.756Z"
   },
   {
    "duration": 3,
    "start_time": "2021-10-15T14:00:26.213Z"
   },
   {
    "duration": 2479,
    "start_time": "2021-10-15T14:00:31.919Z"
   },
   {
    "duration": 273,
    "start_time": "2021-10-15T14:00:34.400Z"
   },
   {
    "duration": 2,
    "start_time": "2021-10-15T14:00:35.724Z"
   },
   {
    "duration": 38,
    "start_time": "2021-10-15T14:00:35.908Z"
   },
   {
    "duration": 3,
    "start_time": "2021-10-15T14:00:36.104Z"
   },
   {
    "duration": 727,
    "start_time": "2021-10-15T14:01:03.174Z"
   },
   {
    "duration": 225,
    "start_time": "2021-10-15T14:01:04.764Z"
   },
   {
    "duration": 3,
    "start_time": "2021-10-15T14:01:06.323Z"
   },
   {
    "duration": 39,
    "start_time": "2021-10-15T14:01:06.532Z"
   },
   {
    "duration": 4,
    "start_time": "2021-10-15T14:01:07.164Z"
   },
   {
    "duration": 849,
    "start_time": "2021-10-15T14:01:13.653Z"
   },
   {
    "duration": 297,
    "start_time": "2021-10-15T14:01:14.504Z"
   },
   {
    "duration": 3,
    "start_time": "2021-10-15T14:01:15.452Z"
   },
   {
    "duration": 40,
    "start_time": "2021-10-15T14:01:15.636Z"
   },
   {
    "duration": 4,
    "start_time": "2021-10-15T14:01:15.820Z"
   },
   {
    "duration": 996,
    "start_time": "2021-10-15T14:01:25.518Z"
   },
   {
    "duration": 258,
    "start_time": "2021-10-15T14:01:26.516Z"
   },
   {
    "duration": 2,
    "start_time": "2021-10-15T14:01:26.777Z"
   },
   {
    "duration": 44,
    "start_time": "2021-10-15T14:01:26.781Z"
   },
   {
    "duration": 4,
    "start_time": "2021-10-15T14:01:26.900Z"
   },
   {
    "duration": 2489,
    "start_time": "2021-10-15T14:01:32.084Z"
   },
   {
    "duration": 284,
    "start_time": "2021-10-15T14:01:34.575Z"
   },
   {
    "duration": 3,
    "start_time": "2021-10-15T14:01:34.861Z"
   },
   {
    "duration": 42,
    "start_time": "2021-10-15T14:01:34.867Z"
   },
   {
    "duration": 4,
    "start_time": "2021-10-15T14:01:34.910Z"
   },
   {
    "duration": 3646,
    "start_time": "2021-10-15T14:02:20.799Z"
   },
   {
    "duration": 303,
    "start_time": "2021-10-15T14:02:24.447Z"
   },
   {
    "duration": 2,
    "start_time": "2021-10-15T14:02:24.829Z"
   },
   {
    "duration": 40,
    "start_time": "2021-10-15T14:02:25.014Z"
   },
   {
    "duration": 4,
    "start_time": "2021-10-15T14:02:25.197Z"
   },
   {
    "duration": 4530,
    "start_time": "2021-10-15T14:02:39.869Z"
   },
   {
    "duration": 319,
    "start_time": "2021-10-15T14:02:44.401Z"
   },
   {
    "duration": 3,
    "start_time": "2021-10-15T14:02:44.722Z"
   },
   {
    "duration": 52,
    "start_time": "2021-10-15T14:02:44.726Z"
   },
   {
    "duration": 4,
    "start_time": "2021-10-15T14:02:44.779Z"
   },
   {
    "duration": 6055,
    "start_time": "2021-10-15T14:02:59.390Z"
   },
   {
    "duration": 443,
    "start_time": "2021-10-15T14:03:05.447Z"
   },
   {
    "duration": 2,
    "start_time": "2021-10-15T14:03:05.893Z"
   },
   {
    "duration": 50,
    "start_time": "2021-10-15T14:03:05.897Z"
   },
   {
    "duration": 4,
    "start_time": "2021-10-15T14:03:05.948Z"
   },
   {
    "duration": 9663,
    "start_time": "2021-10-15T14:03:22.670Z"
   },
   {
    "duration": 426,
    "start_time": "2021-10-15T14:03:32.335Z"
   },
   {
    "duration": 3,
    "start_time": "2021-10-15T14:03:32.763Z"
   },
   {
    "duration": 43,
    "start_time": "2021-10-15T14:03:32.767Z"
   },
   {
    "duration": 4,
    "start_time": "2021-10-15T14:03:32.812Z"
   },
   {
    "duration": 13581,
    "start_time": "2021-10-15T14:03:47.581Z"
   },
   {
    "duration": 505,
    "start_time": "2021-10-15T14:04:01.164Z"
   },
   {
    "duration": 2,
    "start_time": "2021-10-15T14:04:01.671Z"
   },
   {
    "duration": 64,
    "start_time": "2021-10-15T14:04:01.675Z"
   },
   {
    "duration": 4,
    "start_time": "2021-10-15T14:04:01.741Z"
   },
   {
    "duration": 18146,
    "start_time": "2021-10-15T14:04:19.414Z"
   },
   {
    "duration": 524,
    "start_time": "2021-10-15T14:04:37.562Z"
   },
   {
    "duration": 2,
    "start_time": "2021-10-15T14:04:38.088Z"
   },
   {
    "duration": 42,
    "start_time": "2021-10-15T14:04:38.092Z"
   },
   {
    "duration": 11,
    "start_time": "2021-10-15T14:04:38.135Z"
   },
   {
    "duration": 29212,
    "start_time": "2021-10-15T14:04:52.021Z"
   },
   {
    "duration": 797,
    "start_time": "2021-10-15T14:05:21.235Z"
   },
   {
    "duration": 3,
    "start_time": "2021-10-15T14:05:22.034Z"
   },
   {
    "duration": 52,
    "start_time": "2021-10-15T14:05:22.039Z"
   },
   {
    "duration": 4,
    "start_time": "2021-10-15T14:05:22.093Z"
   },
   {
    "duration": 42595,
    "start_time": "2021-10-15T14:05:40.589Z"
   },
   {
    "duration": 825,
    "start_time": "2021-10-15T14:06:23.186Z"
   },
   {
    "duration": 2,
    "start_time": "2021-10-15T14:06:24.014Z"
   },
   {
    "duration": 71,
    "start_time": "2021-10-15T14:06:24.018Z"
   },
   {
    "duration": 5,
    "start_time": "2021-10-15T14:06:24.090Z"
   },
   {
    "duration": 72891,
    "start_time": "2021-10-15T14:06:36.343Z"
   },
   {
    "duration": 1074,
    "start_time": "2021-10-15T14:07:49.236Z"
   },
   {
    "duration": 3,
    "start_time": "2021-10-15T14:07:50.312Z"
   },
   {
    "duration": 55,
    "start_time": "2021-10-15T14:07:50.317Z"
   },
   {
    "duration": 4,
    "start_time": "2021-10-15T14:07:50.373Z"
   },
   {
    "duration": 57350,
    "start_time": "2021-10-15T14:08:27.838Z"
   },
   {
    "duration": 847,
    "start_time": "2021-10-15T14:09:25.190Z"
   },
   {
    "duration": 5,
    "start_time": "2021-10-15T14:09:26.039Z"
   },
   {
    "duration": 43,
    "start_time": "2021-10-15T14:09:26.046Z"
   },
   {
    "duration": 5,
    "start_time": "2021-10-15T14:09:26.091Z"
   },
   {
    "duration": 44110,
    "start_time": "2021-10-15T14:09:37.212Z"
   },
   {
    "duration": 663,
    "start_time": "2021-10-15T14:10:21.324Z"
   },
   {
    "duration": 2,
    "start_time": "2021-10-15T14:10:21.989Z"
   },
   {
    "duration": 57,
    "start_time": "2021-10-15T14:10:21.993Z"
   },
   {
    "duration": 4,
    "start_time": "2021-10-15T14:10:22.052Z"
   },
   {
    "duration": 29698,
    "start_time": "2021-10-15T14:10:48.341Z"
   },
   {
    "duration": 420,
    "start_time": "2021-10-15T14:11:18.041Z"
   },
   {
    "duration": 3,
    "start_time": "2021-10-15T14:11:18.463Z"
   },
   {
    "duration": 47,
    "start_time": "2021-10-15T14:11:18.467Z"
   },
   {
    "duration": 4,
    "start_time": "2021-10-15T14:11:18.515Z"
   },
   {
    "duration": 15303,
    "start_time": "2021-10-15T14:11:33.110Z"
   },
   {
    "duration": 230,
    "start_time": "2021-10-15T14:11:48.414Z"
   },
   {
    "duration": 3,
    "start_time": "2021-10-15T14:11:48.646Z"
   },
   {
    "duration": 43,
    "start_time": "2021-10-15T14:11:48.651Z"
   },
   {
    "duration": 4,
    "start_time": "2021-10-15T14:11:48.696Z"
   },
   {
    "duration": 8166,
    "start_time": "2021-10-15T14:12:07.325Z"
   },
   {
    "duration": 127,
    "start_time": "2021-10-15T14:12:15.493Z"
   },
   {
    "duration": 4,
    "start_time": "2021-10-15T14:12:15.622Z"
   },
   {
    "duration": 55,
    "start_time": "2021-10-15T14:12:15.628Z"
   },
   {
    "duration": 4,
    "start_time": "2021-10-15T14:12:15.685Z"
   },
   {
    "duration": 11154,
    "start_time": "2021-10-15T14:12:29.437Z"
   },
   {
    "duration": 168,
    "start_time": "2021-10-15T14:12:40.594Z"
   },
   {
    "duration": 3,
    "start_time": "2021-10-15T14:12:40.764Z"
   },
   {
    "duration": 52,
    "start_time": "2021-10-15T14:12:40.769Z"
   },
   {
    "duration": 4,
    "start_time": "2021-10-15T14:12:40.822Z"
   },
   {
    "duration": 13538,
    "start_time": "2021-10-15T14:12:59.638Z"
   },
   {
    "duration": 214,
    "start_time": "2021-10-15T14:13:13.178Z"
   },
   {
    "duration": 3,
    "start_time": "2021-10-15T14:13:13.394Z"
   },
   {
    "duration": 49,
    "start_time": "2021-10-15T14:13:13.399Z"
   },
   {
    "duration": 4,
    "start_time": "2021-10-15T14:13:13.450Z"
   },
   {
    "duration": 14759,
    "start_time": "2021-10-15T14:13:26.472Z"
   },
   {
    "duration": 222,
    "start_time": "2021-10-15T14:13:41.233Z"
   },
   {
    "duration": 3,
    "start_time": "2021-10-15T14:13:41.457Z"
   },
   {
    "duration": 41,
    "start_time": "2021-10-15T14:13:41.461Z"
   },
   {
    "duration": 4,
    "start_time": "2021-10-15T14:13:41.504Z"
   },
   {
    "duration": 22086,
    "start_time": "2021-10-15T14:13:56.534Z"
   },
   {
    "duration": 326,
    "start_time": "2021-10-15T14:14:18.622Z"
   },
   {
    "duration": 2,
    "start_time": "2021-10-15T14:14:18.950Z"
   },
   {
    "duration": 42,
    "start_time": "2021-10-15T14:14:18.954Z"
   },
   {
    "duration": 4,
    "start_time": "2021-10-15T14:14:18.997Z"
   },
   {
    "duration": 35027,
    "start_time": "2021-10-15T14:14:30.559Z"
   },
   {
    "duration": 536,
    "start_time": "2021-10-15T14:15:05.588Z"
   },
   {
    "duration": 2,
    "start_time": "2021-10-15T14:15:06.126Z"
   },
   {
    "duration": 57,
    "start_time": "2021-10-15T14:15:06.130Z"
   },
   {
    "duration": 4,
    "start_time": "2021-10-15T14:15:06.188Z"
   },
   {
    "duration": 48325,
    "start_time": "2021-10-15T14:15:23.005Z"
   },
   {
    "duration": 744,
    "start_time": "2021-10-15T14:16:11.332Z"
   },
   {
    "duration": 3,
    "start_time": "2021-10-15T14:16:12.078Z"
   },
   {
    "duration": 70,
    "start_time": "2021-10-15T14:16:12.082Z"
   },
   {
    "duration": 4,
    "start_time": "2021-10-15T14:16:12.154Z"
   },
   {
    "duration": 21073,
    "start_time": "2021-10-15T14:16:28.272Z"
   },
   {
    "duration": 416,
    "start_time": "2021-10-15T14:16:49.347Z"
   },
   {
    "duration": 3,
    "start_time": "2021-10-15T14:16:49.765Z"
   },
   {
    "duration": 61,
    "start_time": "2021-10-15T14:16:49.769Z"
   },
   {
    "duration": 4,
    "start_time": "2021-10-15T14:16:49.832Z"
   },
   {
    "duration": 105388,
    "start_time": "2021-10-15T14:17:01.543Z"
   },
   {
    "duration": 45,
    "start_time": "2021-10-15T14:18:46.933Z"
   },
   {
    "duration": 20792,
    "start_time": "2021-10-15T14:18:46.980Z"
   },
   {
    "duration": 411,
    "start_time": "2021-10-15T14:19:07.774Z"
   },
   {
    "duration": 2,
    "start_time": "2021-10-15T14:19:08.187Z"
   },
   {
    "duration": 56,
    "start_time": "2021-10-15T14:19:08.191Z"
   },
   {
    "duration": 4,
    "start_time": "2021-10-15T14:19:08.248Z"
   },
   {
    "duration": 1349,
    "start_time": "2021-10-17T10:13:54.262Z"
   },
   {
    "duration": 3392,
    "start_time": "2021-10-17T10:13:56.610Z"
   },
   {
    "duration": 24,
    "start_time": "2021-10-17T10:14:00.005Z"
   },
   {
    "duration": 30,
    "start_time": "2021-10-17T10:14:00.032Z"
   },
   {
    "duration": 305,
    "start_time": "2021-10-17T10:14:00.064Z"
   },
   {
    "duration": 28,
    "start_time": "2021-10-17T10:14:00.371Z"
   },
   {
    "duration": 218,
    "start_time": "2021-10-17T10:14:00.401Z"
   },
   {
    "duration": 4,
    "start_time": "2021-10-17T10:14:02.995Z"
   },
   {
    "duration": 63708,
    "start_time": "2021-10-17T10:14:03.235Z"
   },
   {
    "duration": 4,
    "start_time": "2021-10-17T10:15:06.946Z"
   },
   {
    "duration": 811,
    "start_time": "2021-10-17T10:15:06.953Z"
   },
   {
    "duration": 3,
    "start_time": "2021-10-17T10:15:13.550Z"
   },
   {
    "duration": 2668,
    "start_time": "2021-10-17T10:15:13.899Z"
   },
   {
    "duration": 10,
    "start_time": "2021-10-17T10:15:32.093Z"
   },
   {
    "duration": 64,
    "start_time": "2021-10-17T10:15:32.318Z"
   },
   {
    "duration": 55,
    "start_time": "2021-10-17T10:15:32.490Z"
   },
   {
    "duration": 26,
    "start_time": "2021-10-17T10:15:35.558Z"
   },
   {
    "duration": 3,
    "start_time": "2021-10-17T10:15:35.808Z"
   },
   {
    "duration": 3,
    "start_time": "2021-10-17T10:15:39.588Z"
   },
   {
    "duration": 3,
    "start_time": "2021-10-17T10:15:39.953Z"
   },
   {
    "duration": 17303,
    "start_time": "2021-10-17T10:15:40.235Z"
   },
   {
    "duration": 3,
    "start_time": "2021-10-17T10:16:55.551Z"
   },
   {
    "duration": 5,
    "start_time": "2021-10-17T10:17:02.717Z"
   },
   {
    "duration": 512,
    "start_time": "2021-10-17T10:17:46.721Z"
   },
   {
    "duration": 3,
    "start_time": "2021-10-17T10:17:54.437Z"
   },
   {
    "duration": 3,
    "start_time": "2021-10-17T10:17:54.833Z"
   },
   {
    "duration": 96548,
    "start_time": "2021-10-17T10:17:55.576Z"
   },
   {
    "duration": 1260,
    "start_time": "2021-10-17T10:22:10.297Z"
   },
   {
    "duration": 265,
    "start_time": "2021-10-17T10:22:40.514Z"
   },
   {
    "duration": 3,
    "start_time": "2021-10-17T10:22:47.412Z"
   },
   {
    "duration": 282,
    "start_time": "2021-10-17T10:22:48.355Z"
   },
   {
    "duration": 23,
    "start_time": "2021-10-17T10:23:02.640Z"
   },
   {
    "duration": 4,
    "start_time": "2021-10-17T10:23:45.772Z"
   },
   {
    "duration": 4,
    "start_time": "2021-10-17T10:23:57.622Z"
   },
   {
    "duration": 3,
    "start_time": "2021-10-17T10:24:35.644Z"
   },
   {
    "duration": 4,
    "start_time": "2021-10-17T10:24:36.208Z"
   },
   {
    "duration": 96305,
    "start_time": "2021-10-17T10:24:37.190Z"
   },
   {
    "duration": 1305,
    "start_time": "2021-10-17T10:26:13.498Z"
   },
   {
    "duration": 6,
    "start_time": "2021-10-17T10:26:24.772Z"
   },
   {
    "duration": 22,
    "start_time": "2021-10-17T10:26:25.419Z"
   },
   {
    "duration": 4,
    "start_time": "2021-10-17T10:26:26.123Z"
   },
   {
    "duration": 4,
    "start_time": "2021-10-17T10:26:45.627Z"
   },
   {
    "duration": 3,
    "start_time": "2021-10-17T10:26:46.014Z"
   },
   {
    "duration": 99477,
    "start_time": "2021-10-17T10:26:46.230Z"
   },
   {
    "duration": 1316,
    "start_time": "2021-10-17T10:28:25.711Z"
   },
   {
    "duration": 4,
    "start_time": "2021-10-17T10:28:27.030Z"
   },
   {
    "duration": 28,
    "start_time": "2021-10-17T10:28:27.037Z"
   },
   {
    "duration": 7,
    "start_time": "2021-10-17T10:28:27.068Z"
   },
   {
    "duration": 4,
    "start_time": "2021-10-17T10:28:57.252Z"
   },
   {
    "duration": 4,
    "start_time": "2021-10-17T10:28:57.570Z"
   },
   {
    "duration": 102273,
    "start_time": "2021-10-17T10:28:58.650Z"
   },
   {
    "duration": 1358,
    "start_time": "2021-10-17T10:30:40.926Z"
   },
   {
    "duration": 4,
    "start_time": "2021-10-17T10:30:42.287Z"
   },
   {
    "duration": 37,
    "start_time": "2021-10-17T10:30:42.293Z"
   },
   {
    "duration": 4,
    "start_time": "2021-10-17T10:30:42.333Z"
   },
   {
    "duration": 3,
    "start_time": "2021-10-17T10:31:07.016Z"
   },
   {
    "duration": 4,
    "start_time": "2021-10-17T10:31:07.222Z"
   },
   {
    "duration": 106702,
    "start_time": "2021-10-17T10:31:07.427Z"
   },
   {
    "duration": 1321,
    "start_time": "2021-10-17T10:32:54.132Z"
   },
   {
    "duration": 4,
    "start_time": "2021-10-17T10:32:55.456Z"
   },
   {
    "duration": 26,
    "start_time": "2021-10-17T10:32:55.463Z"
   },
   {
    "duration": 4,
    "start_time": "2021-10-17T10:32:55.491Z"
   },
   {
    "duration": 3,
    "start_time": "2021-10-17T10:35:14.590Z"
   },
   {
    "duration": 3,
    "start_time": "2021-10-17T10:35:14.916Z"
   },
   {
    "duration": 112903,
    "start_time": "2021-10-17T10:35:15.139Z"
   },
   {
    "duration": 1397,
    "start_time": "2021-10-17T10:37:08.045Z"
   },
   {
    "duration": 4,
    "start_time": "2021-10-17T10:37:09.445Z"
   },
   {
    "duration": 24,
    "start_time": "2021-10-17T10:37:09.452Z"
   },
   {
    "duration": 11,
    "start_time": "2021-10-17T10:37:09.478Z"
   },
   {
    "duration": 3,
    "start_time": "2021-10-17T10:38:15.760Z"
   },
   {
    "duration": 3,
    "start_time": "2021-10-17T10:38:16.043Z"
   },
   {
    "duration": 119838,
    "start_time": "2021-10-17T10:38:16.272Z"
   },
   {
    "duration": 1416,
    "start_time": "2021-10-17T10:40:16.113Z"
   },
   {
    "duration": 4,
    "start_time": "2021-10-17T10:40:17.532Z"
   },
   {
    "duration": 30,
    "start_time": "2021-10-17T10:40:17.538Z"
   },
   {
    "duration": 4,
    "start_time": "2021-10-17T10:40:17.571Z"
   },
   {
    "duration": 3,
    "start_time": "2021-10-17T10:40:36.641Z"
   },
   {
    "duration": 4,
    "start_time": "2021-10-17T10:40:48.324Z"
   },
   {
    "duration": 138594,
    "start_time": "2021-10-17T10:40:49.551Z"
   },
   {
    "duration": 1329,
    "start_time": "2021-10-17T10:43:08.147Z"
   },
   {
    "duration": 4,
    "start_time": "2021-10-17T10:43:09.479Z"
   },
   {
    "duration": 24,
    "start_time": "2021-10-17T10:43:09.485Z"
   },
   {
    "duration": 13,
    "start_time": "2021-10-17T10:43:09.511Z"
   },
   {
    "duration": 3,
    "start_time": "2021-10-17T10:43:34.670Z"
   },
   {
    "duration": 4,
    "start_time": "2021-10-17T10:43:35.062Z"
   },
   {
    "duration": 1477,
    "start_time": "2021-10-17T10:53:32.772Z"
   },
   {
    "duration": 3470,
    "start_time": "2021-10-17T10:53:34.252Z"
   },
   {
    "duration": 19,
    "start_time": "2021-10-17T10:53:37.724Z"
   },
   {
    "duration": 39,
    "start_time": "2021-10-17T10:53:37.746Z"
   },
   {
    "duration": 305,
    "start_time": "2021-10-17T10:53:37.787Z"
   },
   {
    "duration": 39,
    "start_time": "2021-10-17T10:53:38.095Z"
   },
   {
    "duration": 211,
    "start_time": "2021-10-17T10:53:38.136Z"
   },
   {
    "duration": 5,
    "start_time": "2021-10-17T10:53:38.351Z"
   },
   {
    "duration": 63340,
    "start_time": "2021-10-17T10:53:38.358Z"
   },
   {
    "duration": 4,
    "start_time": "2021-10-17T10:54:41.701Z"
   },
   {
    "duration": 879,
    "start_time": "2021-10-17T10:54:41.708Z"
   },
   {
    "duration": 3,
    "start_time": "2021-10-17T10:54:42.590Z"
   },
   {
    "duration": 2605,
    "start_time": "2021-10-17T10:54:42.596Z"
   },
   {
    "duration": 19,
    "start_time": "2021-10-17T10:54:45.203Z"
   },
   {
    "duration": 61,
    "start_time": "2021-10-17T10:54:45.224Z"
   },
   {
    "duration": 73,
    "start_time": "2021-10-17T10:54:45.287Z"
   },
   {
    "duration": 27,
    "start_time": "2021-10-17T10:54:45.363Z"
   },
   {
    "duration": 4,
    "start_time": "2021-10-17T10:54:45.393Z"
   },
   {
    "duration": 24,
    "start_time": "2021-10-17T10:54:45.400Z"
   },
   {
    "duration": 7,
    "start_time": "2021-10-17T10:54:45.426Z"
   },
   {
    "duration": 17071,
    "start_time": "2021-10-17T10:54:45.435Z"
   },
   {
    "duration": 5,
    "start_time": "2021-10-17T10:55:02.509Z"
   },
   {
    "duration": 30,
    "start_time": "2021-10-17T10:55:02.524Z"
   },
   {
    "duration": 197969,
    "start_time": "2021-10-17T10:55:02.556Z"
   },
   {
    "duration": 1356,
    "start_time": "2021-10-17T10:58:20.528Z"
   },
   {
    "duration": 4,
    "start_time": "2021-10-17T10:58:21.886Z"
   },
   {
    "duration": 39,
    "start_time": "2021-10-17T10:58:21.893Z"
   },
   {
    "duration": 5,
    "start_time": "2021-10-17T10:58:21.935Z"
   },
   {
    "duration": 3,
    "start_time": "2021-10-17T10:59:34.125Z"
   },
   {
    "duration": 3,
    "start_time": "2021-10-17T10:59:34.521Z"
   },
   {
    "duration": 1513,
    "start_time": "2021-10-17T11:03:17.209Z"
   },
   {
    "duration": 790,
    "start_time": "2021-10-17T11:03:18.725Z"
   },
   {
    "duration": 20,
    "start_time": "2021-10-17T11:03:20.445Z"
   },
   {
    "duration": 33,
    "start_time": "2021-10-17T11:03:20.822Z"
   },
   {
    "duration": 302,
    "start_time": "2021-10-17T11:03:22.904Z"
   },
   {
    "duration": 41,
    "start_time": "2021-10-17T11:03:23.209Z"
   },
   {
    "duration": 218,
    "start_time": "2021-10-17T11:03:25.802Z"
   },
   {
    "duration": 4,
    "start_time": "2021-10-17T11:03:27.488Z"
   },
   {
    "duration": 106483,
    "start_time": "2021-10-17T11:03:29.899Z"
   },
   {
    "duration": 8,
    "start_time": "2021-10-17T11:05:16.387Z"
   },
   {
    "duration": 1701,
    "start_time": "2021-10-17T11:05:16.400Z"
   },
   {
    "duration": 5,
    "start_time": "2021-10-17T11:05:20.803Z"
   },
   {
    "duration": 4859,
    "start_time": "2021-10-17T11:05:21.134Z"
   },
   {
    "duration": 17,
    "start_time": "2021-10-17T11:05:27.132Z"
   },
   {
    "duration": 91,
    "start_time": "2021-10-17T11:05:27.956Z"
   },
   {
    "duration": 91,
    "start_time": "2021-10-17T11:05:28.376Z"
   },
   {
    "duration": 35,
    "start_time": "2021-10-17T11:05:30.964Z"
   },
   {
    "duration": 4,
    "start_time": "2021-10-17T11:05:31.206Z"
   },
   {
    "duration": 3,
    "start_time": "2021-10-17T11:05:33.469Z"
   },
   {
    "duration": 3,
    "start_time": "2021-10-17T11:05:33.836Z"
   },
   {
    "duration": 19914,
    "start_time": "2021-10-17T11:05:34.288Z"
   },
   {
    "duration": 4,
    "start_time": "2021-10-17T11:05:57.667Z"
   },
   {
    "duration": 4,
    "start_time": "2021-10-17T11:05:58.268Z"
   },
   {
    "duration": 145327,
    "start_time": "2021-10-17T11:06:00.373Z"
   },
   {
    "duration": 1492,
    "start_time": "2021-10-17T11:08:25.703Z"
   },
   {
    "duration": 11578,
    "start_time": "2021-10-17T11:08:49.209Z"
   },
   {
    "duration": 11,
    "start_time": "2021-10-17T11:09:00.793Z"
   },
   {
    "duration": 101832,
    "start_time": "2021-10-17T11:09:05.792Z"
   },
   {
    "duration": 57,
    "start_time": "2021-10-17T11:10:47.628Z"
   },
   {
    "duration": 40328,
    "start_time": "2021-10-17T11:10:52.916Z"
   },
   {
    "duration": 640,
    "start_time": "2021-10-17T11:11:33.247Z"
   },
   {
    "duration": 3,
    "start_time": "2021-10-17T11:11:36.065Z"
   },
   {
    "duration": 57,
    "start_time": "2021-10-17T11:11:36.447Z"
   },
   {
    "duration": 6,
    "start_time": "2021-10-17T11:11:36.998Z"
   },
   {
    "duration": 1403,
    "start_time": "2021-10-17T11:12:22.028Z"
   },
   {
    "duration": 784,
    "start_time": "2021-10-17T11:12:23.434Z"
   },
   {
    "duration": 19,
    "start_time": "2021-10-17T11:12:24.221Z"
   },
   {
    "duration": 33,
    "start_time": "2021-10-17T11:12:24.243Z"
   },
   {
    "duration": 310,
    "start_time": "2021-10-17T11:12:24.279Z"
   },
   {
    "duration": 39,
    "start_time": "2021-10-17T11:12:24.592Z"
   },
   {
    "duration": 210,
    "start_time": "2021-10-17T11:12:24.633Z"
   },
   {
    "duration": 4,
    "start_time": "2021-10-17T11:12:24.846Z"
   },
   {
    "duration": 39815,
    "start_time": "2021-10-17T11:12:24.852Z"
   },
   {
    "duration": 4,
    "start_time": "2021-10-17T11:13:04.669Z"
   },
   {
    "duration": 837,
    "start_time": "2021-10-17T11:13:04.675Z"
   },
   {
    "duration": 9,
    "start_time": "2021-10-17T11:13:05.515Z"
   },
   {
    "duration": 2626,
    "start_time": "2021-10-17T11:13:05.527Z"
   },
   {
    "duration": 9,
    "start_time": "2021-10-17T11:13:08.156Z"
   },
   {
    "duration": 76,
    "start_time": "2021-10-17T11:13:08.168Z"
   },
   {
    "duration": 56,
    "start_time": "2021-10-17T11:13:08.246Z"
   },
   {
    "duration": 37,
    "start_time": "2021-10-17T11:13:08.305Z"
   },
   {
    "duration": 4,
    "start_time": "2021-10-17T11:13:08.344Z"
   },
   {
    "duration": 5,
    "start_time": "2021-10-17T11:13:08.351Z"
   },
   {
    "duration": 11,
    "start_time": "2021-10-17T11:13:08.359Z"
   },
   {
    "duration": 17142,
    "start_time": "2021-10-17T11:13:08.373Z"
   },
   {
    "duration": 5,
    "start_time": "2021-10-17T11:13:25.518Z"
   },
   {
    "duration": 9,
    "start_time": "2021-10-17T11:13:25.526Z"
   },
   {
    "duration": 149462,
    "start_time": "2021-10-17T11:13:25.537Z"
   },
   {
    "duration": 1354,
    "start_time": "2021-10-17T11:15:55.003Z"
   },
   {
    "duration": 11344,
    "start_time": "2021-10-17T11:15:56.360Z"
   },
   {
    "duration": 17,
    "start_time": "2021-10-17T11:16:07.707Z"
   },
   {
    "duration": 77677,
    "start_time": "2021-10-17T11:16:07.727Z"
   },
   {
    "duration": 50,
    "start_time": "2021-10-17T11:17:25.407Z"
   },
   {
    "duration": 29264,
    "start_time": "2021-10-17T11:17:25.460Z"
   },
   {
    "duration": 623,
    "start_time": "2021-10-17T11:17:54.726Z"
   },
   {
    "duration": 3,
    "start_time": "2021-10-17T11:17:55.352Z"
   },
   {
    "duration": 76,
    "start_time": "2021-10-17T11:17:55.358Z"
   },
   {
    "duration": 5,
    "start_time": "2021-10-17T11:17:55.436Z"
   },
   {
    "duration": 1419,
    "start_time": "2021-10-17T11:19:24.720Z"
   },
   {
    "duration": 763,
    "start_time": "2021-10-17T11:19:26.142Z"
   },
   {
    "duration": 22,
    "start_time": "2021-10-17T11:19:28.510Z"
   },
   {
    "duration": 32,
    "start_time": "2021-10-17T11:19:28.851Z"
   },
   {
    "duration": 284,
    "start_time": "2021-10-17T11:19:29.078Z"
   },
   {
    "duration": 31,
    "start_time": "2021-10-17T11:19:29.365Z"
   },
   {
    "duration": 196,
    "start_time": "2021-10-17T11:19:30.054Z"
   },
   {
    "duration": 3,
    "start_time": "2021-10-17T11:19:30.333Z"
   },
   {
    "duration": 51105,
    "start_time": "2021-10-17T11:19:32.223Z"
   },
   {
    "duration": 4,
    "start_time": "2021-10-17T11:20:23.330Z"
   },
   {
    "duration": 822,
    "start_time": "2021-10-17T11:20:23.337Z"
   },
   {
    "duration": 4,
    "start_time": "2021-10-17T11:20:24.162Z"
   },
   {
    "duration": 2649,
    "start_time": "2021-10-17T11:20:24.168Z"
   },
   {
    "duration": 9,
    "start_time": "2021-10-17T11:20:26.819Z"
   },
   {
    "duration": 70,
    "start_time": "2021-10-17T11:20:26.830Z"
   },
   {
    "duration": 71,
    "start_time": "2021-10-17T11:20:26.903Z"
   },
   {
    "duration": 33,
    "start_time": "2021-10-17T11:20:26.977Z"
   },
   {
    "duration": 4,
    "start_time": "2021-10-17T11:20:27.022Z"
   },
   {
    "duration": 27,
    "start_time": "2021-10-17T11:20:27.028Z"
   },
   {
    "duration": 7,
    "start_time": "2021-10-17T11:20:27.058Z"
   },
   {
    "duration": 17162,
    "start_time": "2021-10-17T11:20:27.068Z"
   },
   {
    "duration": 4,
    "start_time": "2021-10-17T11:20:44.232Z"
   },
   {
    "duration": 13,
    "start_time": "2021-10-17T11:20:44.237Z"
   },
   {
    "duration": 142008,
    "start_time": "2021-10-17T11:20:44.253Z"
   },
   {
    "duration": 1407,
    "start_time": "2021-10-17T11:23:06.264Z"
   },
   {
    "duration": 10005,
    "start_time": "2021-10-17T11:23:07.674Z"
   },
   {
    "duration": 13,
    "start_time": "2021-10-17T11:23:17.682Z"
   },
   {
    "duration": 79788,
    "start_time": "2021-10-17T11:23:17.698Z"
   },
   {
    "duration": 51,
    "start_time": "2021-10-17T11:24:37.488Z"
   },
   {
    "duration": 28785,
    "start_time": "2021-10-17T11:24:37.541Z"
   },
   {
    "duration": 642,
    "start_time": "2021-10-17T11:25:06.330Z"
   },
   {
    "duration": 5,
    "start_time": "2021-10-17T11:25:06.975Z"
   },
   {
    "duration": 79,
    "start_time": "2021-10-17T11:25:06.983Z"
   },
   {
    "duration": 8,
    "start_time": "2021-10-17T11:25:07.064Z"
   },
   {
    "duration": 1366,
    "start_time": "2021-10-17T11:34:21.834Z"
   },
   {
    "duration": 759,
    "start_time": "2021-10-17T11:34:23.203Z"
   },
   {
    "duration": 22,
    "start_time": "2021-10-17T11:34:23.966Z"
   },
   {
    "duration": 55,
    "start_time": "2021-10-17T11:34:23.991Z"
   },
   {
    "duration": 283,
    "start_time": "2021-10-17T11:34:24.049Z"
   },
   {
    "duration": 31,
    "start_time": "2021-10-17T11:34:24.335Z"
   },
   {
    "duration": 190,
    "start_time": "2021-10-17T11:34:25.340Z"
   },
   {
    "duration": 4,
    "start_time": "2021-10-17T11:34:27.939Z"
   },
   {
    "duration": 62928,
    "start_time": "2021-10-17T11:34:28.290Z"
   },
   {
    "duration": 4,
    "start_time": "2021-10-17T11:35:31.220Z"
   },
   {
    "duration": 856,
    "start_time": "2021-10-17T11:35:31.227Z"
   },
   {
    "duration": 4,
    "start_time": "2021-10-17T11:35:32.086Z"
   },
   {
    "duration": 2794,
    "start_time": "2021-10-17T11:35:32.092Z"
   },
   {
    "duration": 9,
    "start_time": "2021-10-17T11:35:34.889Z"
   },
   {
    "duration": 79,
    "start_time": "2021-10-17T11:35:34.901Z"
   },
   {
    "duration": 67,
    "start_time": "2021-10-17T11:35:34.985Z"
   },
   {
    "duration": 26,
    "start_time": "2021-10-17T11:35:35.056Z"
   },
   {
    "duration": 4,
    "start_time": "2021-10-17T11:35:35.085Z"
   },
   {
    "duration": 3,
    "start_time": "2021-10-17T11:35:35.123Z"
   },
   {
    "duration": 6,
    "start_time": "2021-10-17T11:35:35.128Z"
   },
   {
    "duration": 18695,
    "start_time": "2021-10-17T11:35:35.136Z"
   },
   {
    "duration": 3,
    "start_time": "2021-10-17T11:35:55.095Z"
   },
   {
    "duration": 97,
    "start_time": "2021-10-17T11:35:55.749Z"
   },
   {
    "duration": 4,
    "start_time": "2021-10-17T11:36:51.398Z"
   },
   {
    "duration": 137468,
    "start_time": "2021-10-17T11:36:52.368Z"
   },
   {
    "duration": 1348,
    "start_time": "2021-10-17T11:39:09.839Z"
   },
   {
    "duration": 4,
    "start_time": "2021-10-17T11:39:11.190Z"
   },
   {
    "duration": 47,
    "start_time": "2021-10-17T11:39:11.196Z"
   },
   {
    "duration": 5,
    "start_time": "2021-10-17T11:39:11.245Z"
   },
   {
    "duration": 1356,
    "start_time": "2021-10-17T11:43:09.858Z"
   },
   {
    "duration": 754,
    "start_time": "2021-10-17T11:43:11.216Z"
   },
   {
    "duration": 19,
    "start_time": "2021-10-17T11:43:11.973Z"
   },
   {
    "duration": 48,
    "start_time": "2021-10-17T11:43:11.996Z"
   },
   {
    "duration": 285,
    "start_time": "2021-10-17T11:43:12.047Z"
   },
   {
    "duration": 31,
    "start_time": "2021-10-17T11:43:12.334Z"
   },
   {
    "duration": 209,
    "start_time": "2021-10-17T11:43:12.367Z"
   },
   {
    "duration": 4,
    "start_time": "2021-10-17T11:43:13.470Z"
   },
   {
    "duration": 62392,
    "start_time": "2021-10-17T11:43:13.748Z"
   },
   {
    "duration": 4,
    "start_time": "2021-10-17T11:44:16.142Z"
   },
   {
    "duration": 867,
    "start_time": "2021-10-17T11:44:16.148Z"
   },
   {
    "duration": 5,
    "start_time": "2021-10-17T11:44:17.018Z"
   },
   {
    "duration": 2653,
    "start_time": "2021-10-17T11:44:17.025Z"
   },
   {
    "duration": 9,
    "start_time": "2021-10-17T11:44:19.681Z"
   },
   {
    "duration": 84,
    "start_time": "2021-10-17T11:44:19.692Z"
   },
   {
    "duration": 62,
    "start_time": "2021-10-17T11:44:19.779Z"
   },
   {
    "duration": 26,
    "start_time": "2021-10-17T11:44:19.844Z"
   },
   {
    "duration": 7,
    "start_time": "2021-10-17T11:44:19.872Z"
   },
   {
    "duration": 13,
    "start_time": "2021-10-17T11:44:19.881Z"
   },
   {
    "duration": 26,
    "start_time": "2021-10-17T11:44:19.896Z"
   },
   {
    "duration": 16665,
    "start_time": "2021-10-17T11:44:19.925Z"
   },
   {
    "duration": 4,
    "start_time": "2021-10-17T11:44:36.592Z"
   },
   {
    "duration": 15,
    "start_time": "2021-10-17T11:44:36.598Z"
   },
   {
    "duration": 1943,
    "start_time": "2021-10-17T11:44:36.616Z"
   },
   {
    "duration": 102091,
    "start_time": "2021-10-17T11:42:56.471Z"
   },
   {
    "duration": 102087,
    "start_time": "2021-10-17T11:42:56.476Z"
   },
   {
    "duration": 102087,
    "start_time": "2021-10-17T11:42:56.478Z"
   },
   {
    "duration": 102086,
    "start_time": "2021-10-17T11:42:56.480Z"
   },
   {
    "duration": 4,
    "start_time": "2021-10-17T11:44:50.595Z"
   },
   {
    "duration": 257,
    "start_time": "2021-10-17T11:44:54.406Z"
   },
   {
    "duration": 262,
    "start_time": "2021-10-17T11:44:54.860Z"
   },
   {
    "duration": 1431,
    "start_time": "2021-10-17T11:57:34.384Z"
   },
   {
    "duration": 767,
    "start_time": "2021-10-17T11:57:35.818Z"
   },
   {
    "duration": 19,
    "start_time": "2021-10-17T11:57:36.589Z"
   },
   {
    "duration": 34,
    "start_time": "2021-10-17T11:57:36.621Z"
   },
   {
    "duration": 307,
    "start_time": "2021-10-17T11:57:36.658Z"
   },
   {
    "duration": 30,
    "start_time": "2021-10-17T11:57:36.968Z"
   },
   {
    "duration": 209,
    "start_time": "2021-10-17T11:57:37.001Z"
   },
   {
    "duration": 4,
    "start_time": "2021-10-17T11:57:37.212Z"
   },
   {
    "duration": 63642,
    "start_time": "2021-10-17T11:57:37.223Z"
   },
   {
    "duration": 3,
    "start_time": "2021-10-17T11:58:40.868Z"
   },
   {
    "duration": 895,
    "start_time": "2021-10-17T11:58:40.874Z"
   },
   {
    "duration": 4,
    "start_time": "2021-10-17T11:58:41.772Z"
   },
   {
    "duration": 2685,
    "start_time": "2021-10-17T11:58:41.778Z"
   },
   {
    "duration": 11,
    "start_time": "2021-10-17T11:58:44.466Z"
   },
   {
    "duration": 80,
    "start_time": "2021-10-17T11:58:44.480Z"
   },
   {
    "duration": 61,
    "start_time": "2021-10-17T11:58:44.563Z"
   },
   {
    "duration": 40,
    "start_time": "2021-10-17T11:58:44.628Z"
   },
   {
    "duration": 24,
    "start_time": "2021-10-17T11:58:44.671Z"
   },
   {
    "duration": 21,
    "start_time": "2021-10-17T11:58:44.698Z"
   },
   {
    "duration": 27,
    "start_time": "2021-10-17T11:58:44.721Z"
   },
   {
    "duration": 16754,
    "start_time": "2021-10-17T11:58:44.750Z"
   },
   {
    "duration": 4,
    "start_time": "2021-10-17T11:59:01.506Z"
   },
   {
    "duration": 18,
    "start_time": "2021-10-17T11:59:01.523Z"
   },
   {
    "duration": 137006,
    "start_time": "2021-10-17T11:59:01.543Z"
   },
   {
    "duration": 1333,
    "start_time": "2021-10-17T12:01:18.551Z"
   },
   {
    "duration": 9791,
    "start_time": "2021-10-17T12:01:19.886Z"
   },
   {
    "duration": 8,
    "start_time": "2021-10-17T12:01:29.680Z"
   },
   {
    "duration": 76640,
    "start_time": "2021-10-17T12:01:29.690Z"
   },
   {
    "duration": 42,
    "start_time": "2021-10-17T12:02:46.333Z"
   },
   {
    "duration": 29419,
    "start_time": "2021-10-17T12:02:46.377Z"
   },
   {
    "duration": 628,
    "start_time": "2021-10-17T12:03:15.799Z"
   },
   {
    "duration": 3,
    "start_time": "2021-10-17T12:03:16.430Z"
   },
   {
    "duration": 68,
    "start_time": "2021-10-17T12:03:16.478Z"
   },
   {
    "duration": 6,
    "start_time": "2021-10-17T12:03:16.549Z"
   },
   {
    "duration": 1270,
    "start_time": "2021-10-18T15:26:52.868Z"
   },
   {
    "duration": 701,
    "start_time": "2021-10-18T15:26:58.738Z"
   },
   {
    "duration": 17,
    "start_time": "2021-10-18T15:27:00.133Z"
   },
   {
    "duration": 33,
    "start_time": "2021-10-18T15:27:02.233Z"
   },
   {
    "duration": 272,
    "start_time": "2021-10-18T15:27:04.718Z"
   },
   {
    "duration": 31,
    "start_time": "2021-10-18T15:27:05.118Z"
   },
   {
    "duration": 167,
    "start_time": "2021-10-18T15:27:08.152Z"
   },
   {
    "duration": 4,
    "start_time": "2021-10-18T15:27:09.554Z"
   },
   {
    "duration": 1176,
    "start_time": "2021-10-18T15:28:39.117Z"
   },
   {
    "duration": 740,
    "start_time": "2021-10-18T15:28:42.262Z"
   },
   {
    "duration": 16,
    "start_time": "2021-10-18T15:28:43.004Z"
   },
   {
    "duration": 36,
    "start_time": "2021-10-18T15:28:44.643Z"
   },
   {
    "duration": 275,
    "start_time": "2021-10-18T15:28:45.054Z"
   },
   {
    "duration": 30,
    "start_time": "2021-10-18T15:28:45.490Z"
   },
   {
    "duration": 5,
    "start_time": "2021-10-18T15:28:51.361Z"
   },
   {
    "duration": 6318,
    "start_time": "2021-10-18T15:28:51.771Z"
   },
   {
    "duration": 2153,
    "start_time": "2021-10-18T15:29:39.314Z"
   },
   {
    "duration": 1238,
    "start_time": "2021-10-18T15:29:50.268Z"
   },
   {
    "duration": 722,
    "start_time": "2021-10-18T15:29:51.508Z"
   },
   {
    "duration": 16,
    "start_time": "2021-10-18T15:29:52.233Z"
   },
   {
    "duration": 34,
    "start_time": "2021-10-18T15:29:54.149Z"
   },
   {
    "duration": 252,
    "start_time": "2021-10-18T15:29:54.607Z"
   },
   {
    "duration": 30,
    "start_time": "2021-10-18T15:29:55.130Z"
   },
   {
    "duration": 3,
    "start_time": "2021-10-18T15:30:00.056Z"
   },
   {
    "duration": 2204,
    "start_time": "2021-10-18T15:30:00.353Z"
   },
   {
    "duration": 154,
    "start_time": "2021-10-18T15:30:06.596Z"
   },
   {
    "duration": 3,
    "start_time": "2021-10-18T15:30:15.634Z"
   },
   {
    "duration": 45616,
    "start_time": "2021-10-18T15:30:33.964Z"
   },
   {
    "duration": 3,
    "start_time": "2021-10-18T15:31:22.259Z"
   },
   {
    "duration": 665,
    "start_time": "2021-10-18T15:31:22.573Z"
   },
   {
    "duration": 7,
    "start_time": "2021-10-18T15:32:10.091Z"
   },
   {
    "duration": 80,
    "start_time": "2021-10-18T15:32:14.721Z"
   },
   {
    "duration": 57,
    "start_time": "2021-10-18T15:32:15.117Z"
   },
   {
    "duration": 29,
    "start_time": "2021-10-18T15:32:17.466Z"
   },
   {
    "duration": 3,
    "start_time": "2021-10-18T15:32:18.198Z"
   },
   {
    "duration": 3,
    "start_time": "2021-10-18T15:32:25.930Z"
   },
   {
    "duration": 3,
    "start_time": "2021-10-18T15:32:26.197Z"
   },
   {
    "duration": 13042,
    "start_time": "2021-10-18T15:32:26.458Z"
   },
   {
    "duration": 9753,
    "start_time": "2021-10-18T15:32:47.756Z"
   },
   {
    "duration": 7,
    "start_time": "2021-10-18T15:32:57.512Z"
   },
   {
    "duration": 3,
    "start_time": "2021-10-18T15:33:46.005Z"
   },
   {
    "duration": 17,
    "start_time": "2021-10-18T15:33:46.624Z"
   },
   {
    "duration": 4,
    "start_time": "2021-10-18T15:33:47.654Z"
   },
   {
    "duration": 1183,
    "start_time": "2021-10-18T15:38:14.600Z"
   },
   {
    "duration": 709,
    "start_time": "2021-10-18T15:38:15.785Z"
   },
   {
    "duration": 15,
    "start_time": "2021-10-18T15:38:17.486Z"
   },
   {
    "duration": 31,
    "start_time": "2021-10-18T15:38:17.684Z"
   },
   {
    "duration": 270,
    "start_time": "2021-10-18T15:38:17.903Z"
   },
   {
    "duration": 30,
    "start_time": "2021-10-18T15:38:18.177Z"
   },
   {
    "duration": 6,
    "start_time": "2021-10-18T15:38:21.071Z"
   },
   {
    "duration": 2173,
    "start_time": "2021-10-18T15:38:21.323Z"
   },
   {
    "duration": 156,
    "start_time": "2021-10-18T15:38:26.549Z"
   },
   {
    "duration": 3,
    "start_time": "2021-10-18T15:38:26.734Z"
   },
   {
    "duration": 43816,
    "start_time": "2021-10-18T15:38:26.988Z"
   },
   {
    "duration": 2,
    "start_time": "2021-10-18T15:39:10.807Z"
   },
   {
    "duration": 709,
    "start_time": "2021-10-18T15:39:10.811Z"
   },
   {
    "duration": 8,
    "start_time": "2021-10-18T15:39:33.155Z"
   },
   {
    "duration": 81,
    "start_time": "2021-10-18T15:39:33.429Z"
   },
   {
    "duration": 56,
    "start_time": "2021-10-18T15:39:33.771Z"
   },
   {
    "duration": 26,
    "start_time": "2021-10-18T15:39:34.438Z"
   },
   {
    "duration": 3,
    "start_time": "2021-10-18T15:39:34.996Z"
   },
   {
    "duration": 3,
    "start_time": "2021-10-18T15:39:41.107Z"
   },
   {
    "duration": 3,
    "start_time": "2021-10-18T15:39:41.349Z"
   },
   {
    "duration": 13468,
    "start_time": "2021-10-18T15:39:41.610Z"
   },
   {
    "duration": 3,
    "start_time": "2021-10-18T15:41:19.924Z"
   },
   {
    "duration": 107831,
    "start_time": "2021-10-18T15:41:20.350Z"
   },
   {
    "duration": 1005,
    "start_time": "2021-10-18T15:43:08.183Z"
   },
   {
    "duration": 10626,
    "start_time": "2021-10-18T15:43:09.190Z"
   },
   {
    "duration": 7,
    "start_time": "2021-10-18T15:43:19.818Z"
   },
   {
    "duration": 9744,
    "start_time": "2021-10-18T15:44:15.772Z"
   },
   {
    "duration": 9,
    "start_time": "2021-10-18T15:44:25.518Z"
   },
   {
    "duration": 53440,
    "start_time": "2021-10-18T15:44:32.840Z"
   },
   {
    "duration": 44,
    "start_time": "2021-10-18T15:45:26.282Z"
   },
   {
    "duration": 28121,
    "start_time": "2021-10-18T15:45:26.330Z"
   },
   {
    "duration": 449,
    "start_time": "2021-10-18T15:45:54.453Z"
   },
   {
    "duration": 3,
    "start_time": "2021-10-18T15:46:52.547Z"
   },
   {
    "duration": 60,
    "start_time": "2021-10-18T15:46:53.133Z"
   },
   {
    "duration": 5,
    "start_time": "2021-10-18T15:46:54.089Z"
   },
   {
    "duration": 1253,
    "start_time": "2021-10-18T15:55:48.325Z"
   },
   {
    "duration": 702,
    "start_time": "2021-10-18T15:55:49.580Z"
   },
   {
    "duration": 14,
    "start_time": "2021-10-18T15:55:50.284Z"
   },
   {
    "duration": 31,
    "start_time": "2021-10-18T15:55:50.300Z"
   },
   {
    "duration": 288,
    "start_time": "2021-10-18T15:55:50.333Z"
   },
   {
    "duration": 1269,
    "start_time": "2021-10-18T16:00:22.412Z"
   },
   {
    "duration": 743,
    "start_time": "2021-10-18T16:00:23.683Z"
   },
   {
    "duration": 15,
    "start_time": "2021-10-18T16:00:24.428Z"
   },
   {
    "duration": 33,
    "start_time": "2021-10-18T16:00:25.014Z"
   },
   {
    "duration": 268,
    "start_time": "2021-10-18T16:00:25.363Z"
   },
   {
    "duration": 40,
    "start_time": "2021-10-18T16:00:25.633Z"
   },
   {
    "duration": 3,
    "start_time": "2021-10-18T16:00:26.325Z"
   },
   {
    "duration": 2261,
    "start_time": "2021-10-18T16:00:26.848Z"
   },
   {
    "duration": 163,
    "start_time": "2021-10-18T16:00:29.111Z"
   },
   {
    "duration": 3,
    "start_time": "2021-10-18T16:00:29.277Z"
   },
   {
    "duration": 47174,
    "start_time": "2021-10-18T16:00:29.282Z"
   },
   {
    "duration": 6,
    "start_time": "2021-10-18T16:01:16.458Z"
   },
   {
    "duration": 759,
    "start_time": "2021-10-18T16:01:16.466Z"
   },
   {
    "duration": 8,
    "start_time": "2021-10-18T16:01:17.228Z"
   },
   {
    "duration": 97,
    "start_time": "2021-10-18T16:01:17.238Z"
   },
   {
    "duration": 72,
    "start_time": "2021-10-18T16:01:17.338Z"
   },
   {
    "duration": 33,
    "start_time": "2021-10-18T16:01:17.412Z"
   },
   {
    "duration": 16,
    "start_time": "2021-10-18T16:01:17.447Z"
   },
   {
    "duration": 18,
    "start_time": "2021-10-18T16:01:17.466Z"
   },
   {
    "duration": 9,
    "start_time": "2021-10-18T16:01:17.487Z"
   },
   {
    "duration": 13602,
    "start_time": "2021-10-18T16:01:17.499Z"
   },
   {
    "duration": 4,
    "start_time": "2021-10-18T16:01:38.617Z"
   },
   {
    "duration": 103056,
    "start_time": "2021-10-18T16:01:38.824Z"
   },
   {
    "duration": 1030,
    "start_time": "2021-10-18T16:03:21.882Z"
   },
   {
    "duration": 12539,
    "start_time": "2021-10-18T16:03:25.584Z"
   },
   {
    "duration": 8,
    "start_time": "2021-10-18T16:03:38.126Z"
   },
   {
    "duration": 5887,
    "start_time": "2021-10-18T16:03:45.005Z"
   },
   {
    "duration": 6475,
    "start_time": "2021-10-18T16:04:31.851Z"
   },
   {
    "duration": 1156,
    "start_time": "2021-10-18T16:09:19.420Z"
   },
   {
    "duration": 698,
    "start_time": "2021-10-18T16:09:20.578Z"
   },
   {
    "duration": 15,
    "start_time": "2021-10-18T16:09:21.278Z"
   },
   {
    "duration": 34,
    "start_time": "2021-10-18T16:09:21.295Z"
   },
   {
    "duration": 283,
    "start_time": "2021-10-18T16:09:21.331Z"
   },
   {
    "duration": 37,
    "start_time": "2021-10-18T16:09:21.616Z"
   },
   {
    "duration": 4,
    "start_time": "2021-10-18T16:09:21.665Z"
   },
   {
    "duration": 2051,
    "start_time": "2021-10-18T16:09:21.671Z"
   },
   {
    "duration": 208,
    "start_time": "2021-10-18T16:09:23.724Z"
   },
   {
    "duration": 4,
    "start_time": "2021-10-18T16:09:23.934Z"
   },
   {
    "duration": 44906,
    "start_time": "2021-10-18T16:09:23.940Z"
   },
   {
    "duration": 3,
    "start_time": "2021-10-18T16:10:08.849Z"
   },
   {
    "duration": 701,
    "start_time": "2021-10-18T16:10:08.854Z"
   },
   {
    "duration": 15,
    "start_time": "2021-10-18T16:10:09.557Z"
   },
   {
    "duration": 100,
    "start_time": "2021-10-18T16:10:09.574Z"
   },
   {
    "duration": 58,
    "start_time": "2021-10-18T16:10:09.677Z"
   },
   {
    "duration": 38,
    "start_time": "2021-10-18T16:10:09.737Z"
   },
   {
    "duration": 3,
    "start_time": "2021-10-18T16:10:09.777Z"
   },
   {
    "duration": 5,
    "start_time": "2021-10-18T16:10:09.782Z"
   },
   {
    "duration": 7,
    "start_time": "2021-10-18T16:10:09.789Z"
   },
   {
    "duration": 12655,
    "start_time": "2021-10-18T16:10:09.799Z"
   },
   {
    "duration": 3,
    "start_time": "2021-10-18T16:10:22.456Z"
   },
   {
    "duration": 93532,
    "start_time": "2021-10-18T16:10:22.463Z"
   },
   {
    "duration": 1026,
    "start_time": "2021-10-18T16:11:55.997Z"
   },
   {
    "duration": 9782,
    "start_time": "2021-10-18T16:11:57.025Z"
   },
   {
    "duration": 7,
    "start_time": "2021-10-18T16:12:06.809Z"
   },
   {
    "duration": 1216,
    "start_time": "2021-10-18T16:18:39.311Z"
   },
   {
    "duration": 744,
    "start_time": "2021-10-18T16:18:40.532Z"
   },
   {
    "duration": 15,
    "start_time": "2021-10-18T16:18:41.278Z"
   },
   {
    "duration": 31,
    "start_time": "2021-10-18T16:18:41.295Z"
   },
   {
    "duration": 265,
    "start_time": "2021-10-18T16:18:41.328Z"
   },
   {
    "duration": 30,
    "start_time": "2021-10-18T16:18:41.595Z"
   },
   {
    "duration": 7,
    "start_time": "2021-10-18T16:18:41.627Z"
   },
   {
    "duration": 2204,
    "start_time": "2021-10-18T16:18:41.636Z"
   },
   {
    "duration": 152,
    "start_time": "2021-10-18T16:18:43.842Z"
   },
   {
    "duration": 3,
    "start_time": "2021-10-18T16:18:43.995Z"
   },
   {
    "duration": 42253,
    "start_time": "2021-10-18T16:18:44.000Z"
   },
   {
    "duration": 7,
    "start_time": "2021-10-18T16:19:26.256Z"
   },
   {
    "duration": 684,
    "start_time": "2021-10-18T16:19:26.265Z"
   },
   {
    "duration": 16,
    "start_time": "2021-10-18T16:19:26.951Z"
   },
   {
    "duration": 74,
    "start_time": "2021-10-18T16:19:26.969Z"
   },
   {
    "duration": 64,
    "start_time": "2021-10-18T16:19:27.045Z"
   },
   {
    "duration": 27,
    "start_time": "2021-10-18T16:19:27.111Z"
   },
   {
    "duration": 5,
    "start_time": "2021-10-18T16:19:27.140Z"
   },
   {
    "duration": 24,
    "start_time": "2021-10-18T16:19:27.147Z"
   },
   {
    "duration": 11,
    "start_time": "2021-10-18T16:19:27.173Z"
   },
   {
    "duration": 12572,
    "start_time": "2021-10-18T16:19:27.186Z"
   },
   {
    "duration": 3,
    "start_time": "2021-10-18T16:19:39.763Z"
   },
   {
    "duration": 92987,
    "start_time": "2021-10-18T16:19:39.770Z"
   },
   {
    "duration": 1037,
    "start_time": "2021-10-18T16:21:12.763Z"
   },
   {
    "duration": 9690,
    "start_time": "2021-10-18T16:21:13.802Z"
   },
   {
    "duration": 7,
    "start_time": "2021-10-18T16:21:23.494Z"
   },
   {
    "duration": 50446,
    "start_time": "2021-10-18T16:21:23.503Z"
   },
   {
    "duration": 42,
    "start_time": "2021-10-18T16:22:13.951Z"
   },
   {
    "duration": 24624,
    "start_time": "2021-10-18T16:22:13.995Z"
   },
   {
    "duration": 436,
    "start_time": "2021-10-18T16:22:38.621Z"
   },
   {
    "duration": 4,
    "start_time": "2021-10-18T16:22:39.059Z"
   },
   {
    "duration": 61,
    "start_time": "2021-10-18T16:22:39.066Z"
   },
   {
    "duration": 5,
    "start_time": "2021-10-18T16:22:39.129Z"
   },
   {
    "duration": 1469,
    "start_time": "2021-10-19T14:04:32.763Z"
   },
   {
    "duration": 767,
    "start_time": "2021-10-19T14:04:34.235Z"
   },
   {
    "duration": 25,
    "start_time": "2021-10-19T14:04:35.004Z"
   },
   {
    "duration": 33,
    "start_time": "2021-10-19T14:04:35.031Z"
   },
   {
    "duration": 309,
    "start_time": "2021-10-19T14:04:35.067Z"
   },
   {
    "duration": 29,
    "start_time": "2021-10-19T14:04:35.378Z"
   },
   {
    "duration": 4,
    "start_time": "2021-10-19T14:04:35.422Z"
   },
   {
    "duration": 2877,
    "start_time": "2021-10-19T14:04:35.430Z"
   },
   {
    "duration": 205,
    "start_time": "2021-10-19T14:04:38.310Z"
   },
   {
    "duration": 6,
    "start_time": "2021-10-19T14:04:38.517Z"
   },
   {
    "duration": 67911,
    "start_time": "2021-10-19T14:04:38.525Z"
   },
   {
    "duration": 4,
    "start_time": "2021-10-19T14:05:46.438Z"
   },
   {
    "duration": 804,
    "start_time": "2021-10-19T14:05:46.444Z"
   },
   {
    "duration": 10,
    "start_time": "2021-10-19T14:05:47.250Z"
   },
   {
    "duration": 81,
    "start_time": "2021-10-19T14:05:47.263Z"
   },
   {
    "duration": 55,
    "start_time": "2021-10-19T14:05:47.347Z"
   },
   {
    "duration": 41,
    "start_time": "2021-10-19T14:05:47.404Z"
   },
   {
    "duration": 4,
    "start_time": "2021-10-19T14:05:47.448Z"
   },
   {
    "duration": 6,
    "start_time": "2021-10-19T14:05:47.455Z"
   },
   {
    "duration": 4,
    "start_time": "2021-10-19T14:05:47.465Z"
   },
   {
    "duration": 21905,
    "start_time": "2021-10-19T14:05:47.472Z"
   },
   {
    "duration": 3,
    "start_time": "2021-10-19T14:06:09.380Z"
   },
   {
    "duration": 137893,
    "start_time": "2021-10-19T14:06:09.386Z"
   },
   {
    "duration": 1376,
    "start_time": "2021-10-19T14:08:27.281Z"
   },
   {
    "duration": 10123,
    "start_time": "2021-10-19T14:08:28.660Z"
   },
   {
    "duration": 8,
    "start_time": "2021-10-19T14:08:38.788Z"
   },
   {
    "duration": 1338309,
    "start_time": "2021-10-19T14:08:38.799Z"
   },
   {
    "duration": 75918,
    "start_time": "2021-10-19T14:30:57.111Z"
   },
   {
    "duration": 29,
    "start_time": "2021-10-19T14:32:13.032Z"
   },
   {
    "duration": 30896,
    "start_time": "2021-10-19T14:32:13.064Z"
   },
   {
    "duration": 634,
    "start_time": "2021-10-19T14:32:43.962Z"
   },
   {
    "duration": 4,
    "start_time": "2021-10-19T14:32:44.598Z"
   },
   {
    "duration": 81,
    "start_time": "2021-10-19T14:32:44.604Z"
   },
   {
    "duration": 6,
    "start_time": "2021-10-19T14:32:44.687Z"
   }
  ],
  "kernelspec": {
   "display_name": "Python 3",
   "language": "python",
   "name": "python3"
  },
  "language_info": {
   "codemirror_mode": {
    "name": "ipython",
    "version": 3
   },
   "file_extension": ".py",
   "mimetype": "text/x-python",
   "name": "python",
   "nbconvert_exporter": "python",
   "pygments_lexer": "ipython3",
   "version": "3.7.10"
  },
  "toc": {
   "base_numbering": 1,
   "nav_menu": {},
   "number_sections": true,
   "sideBar": true,
   "skip_h1_title": true,
   "title_cell": "Содержание",
   "title_sidebar": "Contents",
   "toc_cell": true,
   "toc_position": {
    "height": "calc(100% - 180px)",
    "left": "10px",
    "top": "150px",
    "width": "302.391px"
   },
   "toc_section_display": true,
   "toc_window_display": false
  }
 },
 "nbformat": 4,
 "nbformat_minor": 2
}
